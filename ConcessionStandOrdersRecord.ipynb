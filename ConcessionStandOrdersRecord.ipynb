{
 "cells": [
  {
   "cell_type": "markdown",
   "id": "4a648766-6879-4e3d-928b-0ad71addeee4",
   "metadata": {},
   "source": [
    "## Concession Baseball Stand Orders\n",
    "\n",
    "Suppose you're a data analyst measuring the order trends happening at the stands and wanted to investigate more details related to the concession business operations.\n",
    "\n",
    "Analyze the following parts\n",
    "\n",
    "- Which food stands that they likely to prefer more (using circle or bar graphs)?\n",
    "- Percentage of those who paid by specific credit card transactions?"
   ]
  },
  {
   "cell_type": "code",
   "execution_count": null,
   "id": "011ceaa2-e420-4ce5-980d-298800a5029a",
   "metadata": {},
   "outputs": [],
   "source": []
  },
  {
   "cell_type": "markdown",
   "id": "4c4c99e6-72ab-496e-a20d-6e764cbabe32",
   "metadata": {},
   "source": [
    "### Part I: Testing the Dataframe Contents"
   ]
  },
  {
   "cell_type": "code",
   "execution_count": 1,
   "id": "d995159b-7c2b-41ad-9f39-3861114761f5",
   "metadata": {},
   "outputs": [
    {
     "data": {
      "text/html": [
       "<div>\n",
       "<style scoped>\n",
       "    .dataframe tbody tr th:only-of-type {\n",
       "        vertical-align: middle;\n",
       "    }\n",
       "\n",
       "    .dataframe tbody tr th {\n",
       "        vertical-align: top;\n",
       "    }\n",
       "\n",
       "    .dataframe thead th {\n",
       "        text-align: right;\n",
       "    }\n",
       "</style>\n",
       "<table border=\"1\" class=\"dataframe\">\n",
       "  <thead>\n",
       "    <tr style=\"text-align: right;\">\n",
       "      <th></th>\n",
       "      <th>Order Number</th>\n",
       "      <th>Customer Name</th>\n",
       "      <th>Concession Item</th>\n",
       "      <th>Quantity</th>\n",
       "      <th>Total Cost</th>\n",
       "      <th>Payment Method</th>\n",
       "      <th>Payment Type</th>\n",
       "    </tr>\n",
       "  </thead>\n",
       "  <tbody>\n",
       "    <tr>\n",
       "      <th>0</th>\n",
       "      <td>1111</td>\n",
       "      <td>Customer A1</td>\n",
       "      <td>Hot Dog</td>\n",
       "      <td>1</td>\n",
       "      <td>1.75</td>\n",
       "      <td>Cash</td>\n",
       "      <td>-</td>\n",
       "    </tr>\n",
       "    <tr>\n",
       "      <th>1</th>\n",
       "      <td>1112</td>\n",
       "      <td>Customer A2</td>\n",
       "      <td>Ice Cream (Vanilla), Ice Cream (Strawberry)</td>\n",
       "      <td>3</td>\n",
       "      <td>6.00</td>\n",
       "      <td>Cash</td>\n",
       "      <td>-</td>\n",
       "    </tr>\n",
       "    <tr>\n",
       "      <th>2</th>\n",
       "      <td>1113</td>\n",
       "      <td>Customer A3</td>\n",
       "      <td>Chicken Sandwich</td>\n",
       "      <td>2</td>\n",
       "      <td>9.50</td>\n",
       "      <td>Credit Card</td>\n",
       "      <td>MasterCard</td>\n",
       "    </tr>\n",
       "    <tr>\n",
       "      <th>3</th>\n",
       "      <td>1114</td>\n",
       "      <td>Customer A4</td>\n",
       "      <td>Chicken Sandwich</td>\n",
       "      <td>1</td>\n",
       "      <td>4.75</td>\n",
       "      <td>Cash</td>\n",
       "      <td>-</td>\n",
       "    </tr>\n",
       "    <tr>\n",
       "      <th>4</th>\n",
       "      <td>1115</td>\n",
       "      <td>Customer A5</td>\n",
       "      <td>Hot Dog</td>\n",
       "      <td>4</td>\n",
       "      <td>7.00</td>\n",
       "      <td>Credit Card</td>\n",
       "      <td>Visa</td>\n",
       "    </tr>\n",
       "    <tr>\n",
       "      <th>...</th>\n",
       "      <td>...</td>\n",
       "      <td>...</td>\n",
       "      <td>...</td>\n",
       "      <td>...</td>\n",
       "      <td>...</td>\n",
       "      <td>...</td>\n",
       "      <td>...</td>\n",
       "    </tr>\n",
       "    <tr>\n",
       "      <th>95</th>\n",
       "      <td>1246</td>\n",
       "      <td>Customer B46</td>\n",
       "      <td>Popcorn, Ice Cream (Vanilla)</td>\n",
       "      <td>2</td>\n",
       "      <td>9.00</td>\n",
       "      <td>Credit Card</td>\n",
       "      <td>MasterCard</td>\n",
       "    </tr>\n",
       "    <tr>\n",
       "      <th>96</th>\n",
       "      <td>1247</td>\n",
       "      <td>Customer B47</td>\n",
       "      <td>Water Bottle</td>\n",
       "      <td>2</td>\n",
       "      <td>4.20</td>\n",
       "      <td>Cash</td>\n",
       "      <td>-</td>\n",
       "    </tr>\n",
       "    <tr>\n",
       "      <th>97</th>\n",
       "      <td>1248</td>\n",
       "      <td>Customer B48</td>\n",
       "      <td>Chicken Sandwich, Fries, Soda</td>\n",
       "      <td>2</td>\n",
       "      <td>17.30</td>\n",
       "      <td>Credit Card</td>\n",
       "      <td>MasterCard</td>\n",
       "    </tr>\n",
       "    <tr>\n",
       "      <th>98</th>\n",
       "      <td>1249</td>\n",
       "      <td>Customer B49</td>\n",
       "      <td>Pepperoni Pizza (Slice), Soda</td>\n",
       "      <td>2</td>\n",
       "      <td>9.90</td>\n",
       "      <td>Credit Card</td>\n",
       "      <td>MasterCard</td>\n",
       "    </tr>\n",
       "    <tr>\n",
       "      <th>99</th>\n",
       "      <td>1250</td>\n",
       "      <td>Customer B50</td>\n",
       "      <td>Ice Cream (Strawberry)</td>\n",
       "      <td>4</td>\n",
       "      <td>12.00</td>\n",
       "      <td>Credit Card</td>\n",
       "      <td>Visa</td>\n",
       "    </tr>\n",
       "  </tbody>\n",
       "</table>\n",
       "<p>100 rows × 7 columns</p>\n",
       "</div>"
      ],
      "text/plain": [
       "    Order Number Customer Name                              Concession Item  \\\n",
       "0           1111   Customer A1                                      Hot Dog   \n",
       "1           1112   Customer A2  Ice Cream (Vanilla), Ice Cream (Strawberry)   \n",
       "2           1113   Customer A3                             Chicken Sandwich   \n",
       "3           1114   Customer A4                             Chicken Sandwich   \n",
       "4           1115   Customer A5                                      Hot Dog   \n",
       "..           ...           ...                                          ...   \n",
       "95          1246  Customer B46                 Popcorn, Ice Cream (Vanilla)   \n",
       "96          1247  Customer B47                                 Water Bottle   \n",
       "97          1248  Customer B48                Chicken Sandwich, Fries, Soda   \n",
       "98          1249  Customer B49                Pepperoni Pizza (Slice), Soda   \n",
       "99          1250  Customer B50                       Ice Cream (Strawberry)   \n",
       "\n",
       "    Quantity  Total Cost Payment Method Payment Type  \n",
       "0          1        1.75           Cash            -  \n",
       "1          3        6.00           Cash            -  \n",
       "2          2        9.50    Credit Card   MasterCard  \n",
       "3          1        4.75           Cash            -  \n",
       "4          4        7.00    Credit Card         Visa  \n",
       "..       ...         ...            ...          ...  \n",
       "95         2        9.00    Credit Card   MasterCard  \n",
       "96         2        4.20           Cash            -  \n",
       "97         2       17.30    Credit Card   MasterCard  \n",
       "98         2        9.90    Credit Card   MasterCard  \n",
       "99         4       12.00    Credit Card         Visa  \n",
       "\n",
       "[100 rows x 7 columns]"
      ]
     },
     "execution_count": 1,
     "metadata": {},
     "output_type": "execute_result"
    }
   ],
   "source": [
    "#Set the dataframe into PANDAS mode\n",
    "import pandas as pd\n",
    "#get the dataset by directing to the name of the file\n",
    "concession_data = pd.read_csv(\"/Users/neilvu/Documents/Data Analyst/Projects/Hands-On Projects/Concession Stands (Fictional)/Concession Stands Data of July 4th Baseball.csv\")\n",
    "#read the file (total 100)\n",
    "concession_data"
   ]
  },
  {
   "cell_type": "markdown",
   "id": "6745e675-f52c-4868-9aec-f9cd4c63ab0f",
   "metadata": {},
   "source": [
    "#### 1 ).Checking the specific contents, such as by rows, columns, and statistical description"
   ]
  },
  {
   "cell_type": "code",
   "execution_count": 9,
   "id": "2f2d9652-991b-4a61-843c-7f851dac04f9",
   "metadata": {},
   "outputs": [
    {
     "data": {
      "text/plain": [
       "Index(['Order Number', 'Customer Name', 'Concession Item', 'Quantity',\n",
       "       'Total Cost', 'Payment Method', 'Payment Type'],\n",
       "      dtype='object')"
      ]
     },
     "execution_count": 9,
     "metadata": {},
     "output_type": "execute_result"
    }
   ],
   "source": [
    "#column index\n",
    "concession_data.columns"
   ]
  },
  {
   "cell_type": "code",
   "execution_count": 14,
   "id": "aa181ff7-380d-4c68-8b1c-e2aa6c3d3af7",
   "metadata": {},
   "outputs": [
    {
     "data": {
      "text/plain": [
       "Order Number         int64\n",
       "Customer Name       object\n",
       "Concession Item     object\n",
       "Quantity             int64\n",
       "Total Cost         float64\n",
       "Payment Method      object\n",
       "Payment Type        object\n",
       "dtype: object"
      ]
     },
     "execution_count": 14,
     "metadata": {},
     "output_type": "execute_result"
    }
   ],
   "source": [
    "#be more specifc with the columns itself\n",
    "concession_data.dtypes"
   ]
  },
  {
   "cell_type": "markdown",
   "id": "1c1a93d3-44be-4975-bf5b-4efe21d54953",
   "metadata": {},
   "source": [
    "Measuring the standard deviation"
   ]
  },
  {
   "cell_type": "code",
   "execution_count": 26,
   "id": "feba89fa-c6b1-4a16-af60-d333662850ef",
   "metadata": {},
   "outputs": [
    {
     "data": {
      "text/plain": [
       "0    Hot Dog, Soda\n",
       "Name: Concession Item, dtype: object"
      ]
     },
     "execution_count": 26,
     "metadata": {},
     "output_type": "execute_result"
    }
   ],
   "source": [
    "#Mode (overall same item) \n",
    "concession_data['Concession Item'].mode()"
   ]
  },
  {
   "cell_type": "code",
   "execution_count": 27,
   "id": "5337fd5d-64c4-4fbe-9c08-c3bd52834815",
   "metadata": {},
   "outputs": [
    {
     "data": {
      "text/plain": [
       "16.6858"
      ]
     },
     "execution_count": 27,
     "metadata": {},
     "output_type": "execute_result"
    }
   ],
   "source": [
    "#Mean (total cost)\n",
    "concession_data['Total Cost'].mean()"
   ]
  },
  {
   "cell_type": "code",
   "execution_count": 28,
   "id": "1bb095cf-2c22-4547-b3ab-c8e6de0582e6",
   "metadata": {},
   "outputs": [
    {
     "data": {
      "text/plain": [
       "3"
      ]
     },
     "execution_count": 28,
     "metadata": {},
     "output_type": "execute_result"
    }
   ],
   "source": [
    "#mean (with int)\n",
    "int(concession_data['Quantity'].mean())"
   ]
  },
  {
   "cell_type": "code",
   "execution_count": 31,
   "id": "38a7b357-5dd9-4b90-8a88-4aca7c3340c6",
   "metadata": {},
   "outputs": [
    {
     "data": {
      "text/plain": [
       "Total Cost\n",
       "12.80    4\n",
       "9.00     3\n",
       "19.00    3\n",
       "12.00    3\n",
       "14.85    3\n",
       "        ..\n",
       "21.00    1\n",
       "20.40    1\n",
       "20.10    1\n",
       "16.35    1\n",
       "4.20     1\n",
       "Name: count, Length: 70, dtype: int64"
      ]
     },
     "execution_count": 31,
     "metadata": {},
     "output_type": "execute_result"
    }
   ],
   "source": [
    "#how much it costs in relation to the quanitty ordered\n",
    "concession_data['Total Cost'].value_counts()"
   ]
  },
  {
   "cell_type": "code",
   "execution_count": 35,
   "id": "1ad2db6a-eb40-44b2-aa42-1431f08a34e5",
   "metadata": {},
   "outputs": [
    {
     "data": {
      "text/plain": [
       "Quantity\n",
       "3    37\n",
       "4    25\n",
       "2    23\n",
       "5     7\n",
       "1     6\n",
       "6     2\n",
       "Name: count, dtype: int64"
      ]
     },
     "execution_count": 35,
     "metadata": {},
     "output_type": "execute_result"
    }
   ],
   "source": [
    "#overall quantity\n",
    "concession_data['Quantity'].value_counts()"
   ]
  },
  {
   "cell_type": "markdown",
   "id": "757c48f7-bbc2-4cf0-b0a3-d5941fe646e9",
   "metadata": {},
   "source": [
    "Describing the contents"
   ]
  },
  {
   "cell_type": "code",
   "execution_count": 40,
   "id": "0732c86f-0b27-477e-829d-471a92e4f26f",
   "metadata": {},
   "outputs": [
    {
     "data": {
      "text/plain": [
       "count    100.000000\n",
       "mean       3.100000\n",
       "std        1.087115\n",
       "min        1.000000\n",
       "25%        2.000000\n",
       "50%        3.000000\n",
       "75%        4.000000\n",
       "max        6.000000\n",
       "Name: Quantity, dtype: float64"
      ]
     },
     "execution_count": 40,
     "metadata": {},
     "output_type": "execute_result"
    }
   ],
   "source": [
    "concession_data['Quantity'].describe()"
   ]
  },
  {
   "cell_type": "code",
   "execution_count": 41,
   "id": "b9c8a613-0b43-4e65-9518-31d636fc9f18",
   "metadata": {},
   "outputs": [
    {
     "data": {
      "text/plain": [
       "count    100.000000\n",
       "mean      16.685800\n",
       "std        9.686721\n",
       "min        1.750000\n",
       "25%        9.750000\n",
       "50%       14.850000\n",
       "75%       20.962500\n",
       "max       47.850000\n",
       "Name: Total Cost, dtype: float64"
      ]
     },
     "execution_count": 41,
     "metadata": {},
     "output_type": "execute_result"
    }
   ],
   "source": [
    "concession_data['Total Cost'].describe()"
   ]
  },
  {
   "cell_type": "code",
   "execution_count": 42,
   "id": "ab26f46e-3a70-4dfe-a613-e26f7e5e03c2",
   "metadata": {},
   "outputs": [
    {
     "data": {
      "text/plain": [
       "count               100\n",
       "unique               48\n",
       "top       Hot Dog, Soda\n",
       "freq                  8\n",
       "Name: Concession Item, dtype: object"
      ]
     },
     "execution_count": 42,
     "metadata": {},
     "output_type": "execute_result"
    }
   ],
   "source": [
    "concession_data['Concession Item'].describe()"
   ]
  },
  {
   "cell_type": "code",
   "execution_count": null,
   "id": "cf71f82c-ee82-4d20-ba1f-5f613027f3b7",
   "metadata": {},
   "outputs": [],
   "source": []
  },
  {
   "cell_type": "markdown",
   "id": "4dfdb3e9-fe78-4b3b-a813-c0c27f876a6e",
   "metadata": {},
   "source": [
    "#### 2). Getting the contents"
   ]
  },
  {
   "cell_type": "markdown",
   "id": "6bd349c1-c7b3-4e59-b617-2aaee759bcb6",
   "metadata": {},
   "source": [
    "Start by getting the idea about Value Counts"
   ]
  },
  {
   "cell_type": "code",
   "execution_count": 47,
   "id": "cdae40a5-983f-45e6-be78-89160c99af37",
   "metadata": {},
   "outputs": [
    {
     "data": {
      "text/plain": [
       "Concession Item\n",
       "Hot Dog, Soda                                         8\n",
       "Chicken Sandwich, Fries, Soda                         7\n",
       "Popcorn, Soda                                         6\n",
       "Chicken Sandwich, Fries, Popcorn, Soda                5\n",
       "Pepperoni Pizza (Slice), Soda                         4\n",
       "Hot Dog, Fries, Soda                                  4\n",
       "Whole Pepperoni, Lemonade                             3\n",
       "Hot Dog, Lemonade                                     3\n",
       "Hot Dog, Popcorn, Soda                                3\n",
       "Cheese Pizza (Slice), Water Bottle                    3\n",
       "Hot Dog, Ice Cream (Strawberry)                       3\n",
       "Hot Dog                                               3\n",
       "Chicken Sandwich                                      3\n",
       "Hot Dog, Ice Cream (Chocolate)                        2\n",
       "Water Bottle                                          2\n",
       "Popcorn, Ice Cream (Vanilla)                          2\n",
       "Popcorn, Ice Cream (Strawberry)                       2\n",
       "Ice Cream (Vanilla)                                   2\n",
       "Pepperoni Pizza (Slice), Water Bottle                 2\n",
       "Hot Dog, Ice Cream (Vanilla)                          2\n",
       "Ice Cream (Strawberry)                                2\n",
       "Chicken Sandwich, Fries, Water Bottle                 2\n",
       "Whole Meatball, Soda                                  2\n",
       "Chicken Sandwich, Ice Cream (Vanilla)                 1\n",
       "Fries, Ice Cream (Chocolate)                          1\n",
       "Hot Dog, Meatball Pizza (Slice), Soda                 1\n",
       "Meatball Pizza (Slice), Soda                          1\n",
       "Ice Cream (Strawberry), Water Bottle                  1\n",
       "Cheese Pizza (Slice), Lemonade                        1\n",
       "Whole Pepperoni, Soda                                 1\n",
       "Cheese Pizza (Slice), Ice Cream (Chocolate)           1\n",
       "Ice Cream (Chocolate)                                 1\n",
       "Water Bottle, Soda                                    1\n",
       "Cheese Pizza (Slice), Ice Cream (Strawberry)          1\n",
       "Chicken Sandwich, Fries, Ice Cream (Strawberry)       1\n",
       "Whole Meatball, Ice Cream (Vanilla), Soda             1\n",
       "Cheese Pizza (Slice), Fries, Soda                     1\n",
       "Supreme Pizza (Whole), Ice Cream (Chocolate), Soda    1\n",
       "Hot Dog, Pepperoni  Pizza (Slice), Soda               1\n",
       "Ice Cream (Vanilla), Water Bottle                     1\n",
       "Ice Cream (Vanilla), Ice Cream (Strawberry)           1\n",
       "Whole Supreme                                         1\n",
       "Popcorn                                               1\n",
       "Hot Dog, Cheese Pizza (Slice), Soda                   1\n",
       "Hot Dog, Water Bottle                                 1\n",
       "Pepperoni Pizza (Slice)                               1\n",
       "Supreme Pizza (Whole)                                 1\n",
       "Supreme Pizza (Whole), Water Bottle                   1\n",
       "Name: count, dtype: int64"
      ]
     },
     "execution_count": 47,
     "metadata": {},
     "output_type": "execute_result"
    }
   ],
   "source": [
    "#overal type\n",
    "concession_data['Concession Item'].value_counts()"
   ]
  },
  {
   "cell_type": "code",
   "execution_count": 44,
   "id": "395f1c89-5d9e-4f4a-b211-ddea0f80cd31",
   "metadata": {},
   "outputs": [
    {
     "data": {
      "text/html": [
       "<div>\n",
       "<style scoped>\n",
       "    .dataframe tbody tr th:only-of-type {\n",
       "        vertical-align: middle;\n",
       "    }\n",
       "\n",
       "    .dataframe tbody tr th {\n",
       "        vertical-align: top;\n",
       "    }\n",
       "\n",
       "    .dataframe thead th {\n",
       "        text-align: right;\n",
       "    }\n",
       "</style>\n",
       "<table border=\"1\" class=\"dataframe\">\n",
       "  <thead>\n",
       "    <tr style=\"text-align: right;\">\n",
       "      <th></th>\n",
       "      <th>Order Number</th>\n",
       "      <th>Customer Name</th>\n",
       "      <th>Concession Item</th>\n",
       "      <th>Quantity</th>\n",
       "      <th>Total Cost</th>\n",
       "      <th>Payment Method</th>\n",
       "      <th>Payment Type</th>\n",
       "    </tr>\n",
       "  </thead>\n",
       "  <tbody>\n",
       "    <tr>\n",
       "      <th>0</th>\n",
       "      <td>1111</td>\n",
       "      <td>Customer A1</td>\n",
       "      <td>Hot Dog</td>\n",
       "      <td>1</td>\n",
       "      <td>1.75</td>\n",
       "      <td>Cash</td>\n",
       "      <td>-</td>\n",
       "    </tr>\n",
       "    <tr>\n",
       "      <th>4</th>\n",
       "      <td>1115</td>\n",
       "      <td>Customer A5</td>\n",
       "      <td>Hot Dog</td>\n",
       "      <td>4</td>\n",
       "      <td>7.00</td>\n",
       "      <td>Credit Card</td>\n",
       "      <td>Visa</td>\n",
       "    </tr>\n",
       "    <tr>\n",
       "      <th>90</th>\n",
       "      <td>1241</td>\n",
       "      <td>Customer B41</td>\n",
       "      <td>Hot Dog</td>\n",
       "      <td>3</td>\n",
       "      <td>5.25</td>\n",
       "      <td>Credit Card</td>\n",
       "      <td>MasterCard</td>\n",
       "    </tr>\n",
       "  </tbody>\n",
       "</table>\n",
       "</div>"
      ],
      "text/plain": [
       "    Order Number Customer Name Concession Item  Quantity  Total Cost  \\\n",
       "0           1111   Customer A1         Hot Dog         1        1.75   \n",
       "4           1115   Customer A5         Hot Dog         4        7.00   \n",
       "90          1241  Customer B41         Hot Dog         3        5.25   \n",
       "\n",
       "   Payment Method Payment Type  \n",
       "0            Cash            -  \n",
       "4     Credit Card         Visa  \n",
       "90    Credit Card   MasterCard  "
      ]
     },
     "execution_count": 44,
     "metadata": {},
     "output_type": "execute_result"
    }
   ],
   "source": [
    "concession_data[concession_data['Concession Item'] == 'Hot Dog']"
   ]
  },
  {
   "cell_type": "code",
   "execution_count": 82,
   "id": "82c7712d-9945-4217-a2d6-2034c0a09c0b",
   "metadata": {},
   "outputs": [
    {
     "data": {
      "text/html": [
       "<div>\n",
       "<style scoped>\n",
       "    .dataframe tbody tr th:only-of-type {\n",
       "        vertical-align: middle;\n",
       "    }\n",
       "\n",
       "    .dataframe tbody tr th {\n",
       "        vertical-align: top;\n",
       "    }\n",
       "\n",
       "    .dataframe thead th {\n",
       "        text-align: right;\n",
       "    }\n",
       "</style>\n",
       "<table border=\"1\" class=\"dataframe\">\n",
       "  <thead>\n",
       "    <tr style=\"text-align: right;\">\n",
       "      <th></th>\n",
       "      <th>Order Number</th>\n",
       "      <th>Customer Name</th>\n",
       "      <th>Concession Item</th>\n",
       "      <th>Quantity</th>\n",
       "      <th>Total Cost</th>\n",
       "      <th>Payment Method</th>\n",
       "      <th>Payment Type</th>\n",
       "    </tr>\n",
       "  </thead>\n",
       "  <tbody>\n",
       "    <tr>\n",
       "      <th>2</th>\n",
       "      <td>1113</td>\n",
       "      <td>Customer A3</td>\n",
       "      <td>Chicken Sandwich</td>\n",
       "      <td>2</td>\n",
       "      <td>9.5</td>\n",
       "      <td>Credit Card</td>\n",
       "      <td>MasterCard</td>\n",
       "    </tr>\n",
       "  </tbody>\n",
       "</table>\n",
       "</div>"
      ],
      "text/plain": [
       "   Order Number Customer Name   Concession Item  Quantity  Total Cost  \\\n",
       "2          1113   Customer A3  Chicken Sandwich         2         9.5   \n",
       "\n",
       "  Payment Method Payment Type  \n",
       "2    Credit Card   MasterCard  "
      ]
     },
     "execution_count": 82,
     "metadata": {},
     "output_type": "execute_result"
    }
   ],
   "source": [
    "#finding the particular person with the order - in the event that we need to verify in the order\n",
    "concession_data[concession_data['Customer Name'] == 'Customer A3']"
   ]
  },
  {
   "cell_type": "code",
   "execution_count": 45,
   "id": "0c12a05f-9bff-4a27-a35c-4731755211e9",
   "metadata": {},
   "outputs": [
    {
     "data": {
      "text/html": [
       "<div>\n",
       "<style scoped>\n",
       "    .dataframe tbody tr th:only-of-type {\n",
       "        vertical-align: middle;\n",
       "    }\n",
       "\n",
       "    .dataframe tbody tr th {\n",
       "        vertical-align: top;\n",
       "    }\n",
       "\n",
       "    .dataframe thead th {\n",
       "        text-align: right;\n",
       "    }\n",
       "</style>\n",
       "<table border=\"1\" class=\"dataframe\">\n",
       "  <thead>\n",
       "    <tr style=\"text-align: right;\">\n",
       "      <th></th>\n",
       "      <th>Order Number</th>\n",
       "      <th>Customer Name</th>\n",
       "      <th>Concession Item</th>\n",
       "      <th>Quantity</th>\n",
       "      <th>Total Cost</th>\n",
       "      <th>Payment Method</th>\n",
       "      <th>Payment Type</th>\n",
       "    </tr>\n",
       "  </thead>\n",
       "  <tbody>\n",
       "    <tr>\n",
       "      <th>12</th>\n",
       "      <td>1123</td>\n",
       "      <td>Customer A13</td>\n",
       "      <td>Hot Dog, Soda</td>\n",
       "      <td>3</td>\n",
       "      <td>10.35</td>\n",
       "      <td>Credit Card</td>\n",
       "      <td>Visa</td>\n",
       "    </tr>\n",
       "    <tr>\n",
       "      <th>13</th>\n",
       "      <td>1124</td>\n",
       "      <td>Customer A14</td>\n",
       "      <td>Hot Dog, Soda</td>\n",
       "      <td>6</td>\n",
       "      <td>20.70</td>\n",
       "      <td>Credit Card</td>\n",
       "      <td>Discover</td>\n",
       "    </tr>\n",
       "    <tr>\n",
       "      <th>17</th>\n",
       "      <td>1127</td>\n",
       "      <td>Customer A18</td>\n",
       "      <td>Hot Dog, Soda</td>\n",
       "      <td>4</td>\n",
       "      <td>13.80</td>\n",
       "      <td>Cash</td>\n",
       "      <td>-</td>\n",
       "    </tr>\n",
       "    <tr>\n",
       "      <th>28</th>\n",
       "      <td>1138</td>\n",
       "      <td>Customer A29</td>\n",
       "      <td>Hot Dog, Soda</td>\n",
       "      <td>3</td>\n",
       "      <td>10.35</td>\n",
       "      <td>Credit Card</td>\n",
       "      <td>Visa</td>\n",
       "    </tr>\n",
       "    <tr>\n",
       "      <th>36</th>\n",
       "      <td>1145</td>\n",
       "      <td>Customer A37</td>\n",
       "      <td>Hot Dog, Soda</td>\n",
       "      <td>2</td>\n",
       "      <td>6.90</td>\n",
       "      <td>Credit Card</td>\n",
       "      <td>Discover</td>\n",
       "    </tr>\n",
       "    <tr>\n",
       "      <th>37</th>\n",
       "      <td>1146</td>\n",
       "      <td>Customer A38</td>\n",
       "      <td>Hot Dog, Soda</td>\n",
       "      <td>4</td>\n",
       "      <td>12.80</td>\n",
       "      <td>Credit Card</td>\n",
       "      <td>Visa</td>\n",
       "    </tr>\n",
       "    <tr>\n",
       "      <th>49</th>\n",
       "      <td>1158</td>\n",
       "      <td>Customer A50</td>\n",
       "      <td>Hot Dog, Soda</td>\n",
       "      <td>2</td>\n",
       "      <td>6.90</td>\n",
       "      <td>Cash</td>\n",
       "      <td>-</td>\n",
       "    </tr>\n",
       "    <tr>\n",
       "      <th>91</th>\n",
       "      <td>1242</td>\n",
       "      <td>Customer B42</td>\n",
       "      <td>Hot Dog, Soda</td>\n",
       "      <td>1</td>\n",
       "      <td>3.45</td>\n",
       "      <td>Cash</td>\n",
       "      <td>-</td>\n",
       "    </tr>\n",
       "  </tbody>\n",
       "</table>\n",
       "</div>"
      ],
      "text/plain": [
       "    Order Number Customer Name Concession Item  Quantity  Total Cost  \\\n",
       "12          1123  Customer A13   Hot Dog, Soda         3       10.35   \n",
       "13          1124  Customer A14   Hot Dog, Soda         6       20.70   \n",
       "17          1127  Customer A18   Hot Dog, Soda         4       13.80   \n",
       "28          1138  Customer A29   Hot Dog, Soda         3       10.35   \n",
       "36          1145  Customer A37   Hot Dog, Soda         2        6.90   \n",
       "37          1146  Customer A38   Hot Dog, Soda         4       12.80   \n",
       "49          1158  Customer A50   Hot Dog, Soda         2        6.90   \n",
       "91          1242  Customer B42   Hot Dog, Soda         1        3.45   \n",
       "\n",
       "   Payment Method Payment Type  \n",
       "12    Credit Card         Visa  \n",
       "13    Credit Card     Discover  \n",
       "17           Cash            -  \n",
       "28    Credit Card         Visa  \n",
       "36    Credit Card     Discover  \n",
       "37    Credit Card         Visa  \n",
       "49           Cash            -  \n",
       "91           Cash            -  "
      ]
     },
     "execution_count": 45,
     "metadata": {},
     "output_type": "execute_result"
    }
   ],
   "source": [
    "concession_data[concession_data['Concession Item'] == 'Hot Dog, Soda']"
   ]
  },
  {
   "cell_type": "code",
   "execution_count": 46,
   "id": "93bba0b9-7d38-4427-82c5-d65d5861c96f",
   "metadata": {},
   "outputs": [
    {
     "data": {
      "text/html": [
       "<div>\n",
       "<style scoped>\n",
       "    .dataframe tbody tr th:only-of-type {\n",
       "        vertical-align: middle;\n",
       "    }\n",
       "\n",
       "    .dataframe tbody tr th {\n",
       "        vertical-align: top;\n",
       "    }\n",
       "\n",
       "    .dataframe thead th {\n",
       "        text-align: right;\n",
       "    }\n",
       "</style>\n",
       "<table border=\"1\" class=\"dataframe\">\n",
       "  <thead>\n",
       "    <tr style=\"text-align: right;\">\n",
       "      <th></th>\n",
       "      <th>Order Number</th>\n",
       "      <th>Customer Name</th>\n",
       "      <th>Concession Item</th>\n",
       "      <th>Quantity</th>\n",
       "      <th>Total Cost</th>\n",
       "      <th>Payment Method</th>\n",
       "      <th>Payment Type</th>\n",
       "    </tr>\n",
       "  </thead>\n",
       "  <tbody>\n",
       "    <tr>\n",
       "      <th>10</th>\n",
       "      <td>1121</td>\n",
       "      <td>Customer A11</td>\n",
       "      <td>Chicken Sandwich, Fries, Popcorn, Soda</td>\n",
       "      <td>3</td>\n",
       "      <td>30.45</td>\n",
       "      <td>Credit Card</td>\n",
       "      <td>Visa</td>\n",
       "    </tr>\n",
       "    <tr>\n",
       "      <th>43</th>\n",
       "      <td>1152</td>\n",
       "      <td>Customer A44</td>\n",
       "      <td>Chicken Sandwich, Fries, Popcorn, Soda</td>\n",
       "      <td>4</td>\n",
       "      <td>40.60</td>\n",
       "      <td>Credit Card</td>\n",
       "      <td>MasterCard</td>\n",
       "    </tr>\n",
       "    <tr>\n",
       "      <th>64</th>\n",
       "      <td>1215</td>\n",
       "      <td>Customer B15</td>\n",
       "      <td>Chicken Sandwich, Fries, Popcorn, Soda</td>\n",
       "      <td>3</td>\n",
       "      <td>30.45</td>\n",
       "      <td>Credit Card</td>\n",
       "      <td>MasterCard</td>\n",
       "    </tr>\n",
       "    <tr>\n",
       "      <th>81</th>\n",
       "      <td>1232</td>\n",
       "      <td>Customer B32</td>\n",
       "      <td>Chicken Sandwich, Fries, Popcorn, Soda</td>\n",
       "      <td>2</td>\n",
       "      <td>20.30</td>\n",
       "      <td>Credit Card</td>\n",
       "      <td>Discover</td>\n",
       "    </tr>\n",
       "    <tr>\n",
       "      <th>92</th>\n",
       "      <td>1243</td>\n",
       "      <td>Customer B43</td>\n",
       "      <td>Chicken Sandwich, Fries, Popcorn, Soda</td>\n",
       "      <td>2</td>\n",
       "      <td>20.30</td>\n",
       "      <td>Credit Card</td>\n",
       "      <td>MasterCard</td>\n",
       "    </tr>\n",
       "  </tbody>\n",
       "</table>\n",
       "</div>"
      ],
      "text/plain": [
       "    Order Number Customer Name                         Concession Item  \\\n",
       "10          1121  Customer A11  Chicken Sandwich, Fries, Popcorn, Soda   \n",
       "43          1152  Customer A44  Chicken Sandwich, Fries, Popcorn, Soda   \n",
       "64          1215  Customer B15  Chicken Sandwich, Fries, Popcorn, Soda   \n",
       "81          1232  Customer B32  Chicken Sandwich, Fries, Popcorn, Soda   \n",
       "92          1243  Customer B43  Chicken Sandwich, Fries, Popcorn, Soda   \n",
       "\n",
       "    Quantity  Total Cost Payment Method Payment Type  \n",
       "10         3       30.45    Credit Card         Visa  \n",
       "43         4       40.60    Credit Card   MasterCard  \n",
       "64         3       30.45    Credit Card   MasterCard  \n",
       "81         2       20.30    Credit Card     Discover  \n",
       "92         2       20.30    Credit Card   MasterCard  "
      ]
     },
     "execution_count": 46,
     "metadata": {},
     "output_type": "execute_result"
    }
   ],
   "source": [
    "concession_data[concession_data['Concession Item'] == 'Chicken Sandwich, Fries, Popcorn, Soda']"
   ]
  },
  {
   "cell_type": "code",
   "execution_count": 48,
   "id": "1c621de7-50d3-4f6d-8496-27bef91ca367",
   "metadata": {},
   "outputs": [
    {
     "data": {
      "text/html": [
       "<div>\n",
       "<style scoped>\n",
       "    .dataframe tbody tr th:only-of-type {\n",
       "        vertical-align: middle;\n",
       "    }\n",
       "\n",
       "    .dataframe tbody tr th {\n",
       "        vertical-align: top;\n",
       "    }\n",
       "\n",
       "    .dataframe thead th {\n",
       "        text-align: right;\n",
       "    }\n",
       "</style>\n",
       "<table border=\"1\" class=\"dataframe\">\n",
       "  <thead>\n",
       "    <tr style=\"text-align: right;\">\n",
       "      <th></th>\n",
       "      <th>Order Number</th>\n",
       "      <th>Customer Name</th>\n",
       "      <th>Concession Item</th>\n",
       "      <th>Quantity</th>\n",
       "      <th>Total Cost</th>\n",
       "      <th>Payment Method</th>\n",
       "      <th>Payment Type</th>\n",
       "    </tr>\n",
       "  </thead>\n",
       "  <tbody>\n",
       "    <tr>\n",
       "      <th>2</th>\n",
       "      <td>1113</td>\n",
       "      <td>Customer A3</td>\n",
       "      <td>Chicken Sandwich</td>\n",
       "      <td>2</td>\n",
       "      <td>9.50</td>\n",
       "      <td>Credit Card</td>\n",
       "      <td>MasterCard</td>\n",
       "    </tr>\n",
       "    <tr>\n",
       "      <th>3</th>\n",
       "      <td>1114</td>\n",
       "      <td>Customer A4</td>\n",
       "      <td>Chicken Sandwich</td>\n",
       "      <td>1</td>\n",
       "      <td>4.75</td>\n",
       "      <td>Cash</td>\n",
       "      <td>-</td>\n",
       "    </tr>\n",
       "    <tr>\n",
       "      <th>23</th>\n",
       "      <td>1133</td>\n",
       "      <td>Customer A24</td>\n",
       "      <td>Chicken Sandwich</td>\n",
       "      <td>1</td>\n",
       "      <td>4.75</td>\n",
       "      <td>Cash</td>\n",
       "      <td>-</td>\n",
       "    </tr>\n",
       "  </tbody>\n",
       "</table>\n",
       "</div>"
      ],
      "text/plain": [
       "    Order Number Customer Name   Concession Item  Quantity  Total Cost  \\\n",
       "2           1113   Customer A3  Chicken Sandwich         2        9.50   \n",
       "3           1114   Customer A4  Chicken Sandwich         1        4.75   \n",
       "23          1133  Customer A24  Chicken Sandwich         1        4.75   \n",
       "\n",
       "   Payment Method Payment Type  \n",
       "2     Credit Card   MasterCard  \n",
       "3            Cash            -  \n",
       "23           Cash            -  "
      ]
     },
     "execution_count": 48,
     "metadata": {},
     "output_type": "execute_result"
    }
   ],
   "source": [
    "concession_data[concession_data['Concession Item'] == 'Chicken Sandwich']"
   ]
  },
  {
   "cell_type": "code",
   "execution_count": 51,
   "id": "c6b3af23-4e6a-471e-b13f-118643a091e5",
   "metadata": {},
   "outputs": [
    {
     "data": {
      "text/html": [
       "<div>\n",
       "<style scoped>\n",
       "    .dataframe tbody tr th:only-of-type {\n",
       "        vertical-align: middle;\n",
       "    }\n",
       "\n",
       "    .dataframe tbody tr th {\n",
       "        vertical-align: top;\n",
       "    }\n",
       "\n",
       "    .dataframe thead th {\n",
       "        text-align: right;\n",
       "    }\n",
       "</style>\n",
       "<table border=\"1\" class=\"dataframe\">\n",
       "  <thead>\n",
       "    <tr style=\"text-align: right;\">\n",
       "      <th></th>\n",
       "      <th>Order Number</th>\n",
       "      <th>Customer Name</th>\n",
       "      <th>Concession Item</th>\n",
       "      <th>Quantity</th>\n",
       "      <th>Total Cost</th>\n",
       "      <th>Payment Method</th>\n",
       "      <th>Payment Type</th>\n",
       "    </tr>\n",
       "  </thead>\n",
       "  <tbody>\n",
       "    <tr>\n",
       "      <th>2</th>\n",
       "      <td>1113</td>\n",
       "      <td>Customer A3</td>\n",
       "      <td>Chicken Sandwich</td>\n",
       "      <td>2</td>\n",
       "      <td>9.50</td>\n",
       "      <td>Credit Card</td>\n",
       "      <td>MasterCard</td>\n",
       "    </tr>\n",
       "    <tr>\n",
       "      <th>8</th>\n",
       "      <td>1119</td>\n",
       "      <td>Customer A9</td>\n",
       "      <td>Hot Dog, Cheese Pizza (Slice), Soda</td>\n",
       "      <td>5</td>\n",
       "      <td>33.00</td>\n",
       "      <td>Credit Card</td>\n",
       "      <td>MasterCard</td>\n",
       "    </tr>\n",
       "    <tr>\n",
       "      <th>18</th>\n",
       "      <td>1128</td>\n",
       "      <td>Customer A19</td>\n",
       "      <td>Whole Meatball, Soda</td>\n",
       "      <td>6</td>\n",
       "      <td>20.95</td>\n",
       "      <td>Credit Card</td>\n",
       "      <td>MasterCard</td>\n",
       "    </tr>\n",
       "    <tr>\n",
       "      <th>19</th>\n",
       "      <td>1129</td>\n",
       "      <td>Customer A20</td>\n",
       "      <td>Cheese Pizza (Slice), Water Bottle</td>\n",
       "      <td>2</td>\n",
       "      <td>10.50</td>\n",
       "      <td>Credit Card</td>\n",
       "      <td>MasterCard</td>\n",
       "    </tr>\n",
       "    <tr>\n",
       "      <th>27</th>\n",
       "      <td>1137</td>\n",
       "      <td>Customer A28</td>\n",
       "      <td>Pepperoni Pizza (Slice), Water Bottle</td>\n",
       "      <td>2</td>\n",
       "      <td>10.70</td>\n",
       "      <td>Credit Card</td>\n",
       "      <td>MasterCard</td>\n",
       "    </tr>\n",
       "    <tr>\n",
       "      <th>30</th>\n",
       "      <td>1140</td>\n",
       "      <td>Customer A31</td>\n",
       "      <td>Hot Dog, Ice Cream (Vanilla)</td>\n",
       "      <td>3</td>\n",
       "      <td>14.25</td>\n",
       "      <td>Credit Card</td>\n",
       "      <td>MasterCard</td>\n",
       "    </tr>\n",
       "    <tr>\n",
       "      <th>31</th>\n",
       "      <td>1141</td>\n",
       "      <td>Customer A32</td>\n",
       "      <td>Hot Dog, Fries, Soda</td>\n",
       "      <td>3</td>\n",
       "      <td>16.95</td>\n",
       "      <td>Credit Card</td>\n",
       "      <td>MasterCard</td>\n",
       "    </tr>\n",
       "    <tr>\n",
       "      <th>34</th>\n",
       "      <td>1144</td>\n",
       "      <td>Customer A35</td>\n",
       "      <td>Hot Dog, Fries, Soda</td>\n",
       "      <td>3</td>\n",
       "      <td>16.95</td>\n",
       "      <td>Credit Card</td>\n",
       "      <td>MasterCard</td>\n",
       "    </tr>\n",
       "    <tr>\n",
       "      <th>38</th>\n",
       "      <td>1147</td>\n",
       "      <td>Customer A39</td>\n",
       "      <td>Popcorn, Ice Cream (Strawberry)</td>\n",
       "      <td>3</td>\n",
       "      <td>13.50</td>\n",
       "      <td>Credit Card</td>\n",
       "      <td>MasterCard</td>\n",
       "    </tr>\n",
       "    <tr>\n",
       "      <th>40</th>\n",
       "      <td>1149</td>\n",
       "      <td>Customer A41</td>\n",
       "      <td>Pepperoni Pizza (Slice), Soda</td>\n",
       "      <td>1</td>\n",
       "      <td>4.95</td>\n",
       "      <td>Credit Card</td>\n",
       "      <td>MasterCard</td>\n",
       "    </tr>\n",
       "    <tr>\n",
       "      <th>43</th>\n",
       "      <td>1152</td>\n",
       "      <td>Customer A44</td>\n",
       "      <td>Chicken Sandwich, Fries, Popcorn, Soda</td>\n",
       "      <td>4</td>\n",
       "      <td>40.60</td>\n",
       "      <td>Credit Card</td>\n",
       "      <td>MasterCard</td>\n",
       "    </tr>\n",
       "    <tr>\n",
       "      <th>44</th>\n",
       "      <td>1153</td>\n",
       "      <td>Customer A45</td>\n",
       "      <td>Chicken Sandwich, Fries, Soda</td>\n",
       "      <td>5</td>\n",
       "      <td>43.25</td>\n",
       "      <td>Credit Card</td>\n",
       "      <td>MasterCard</td>\n",
       "    </tr>\n",
       "    <tr>\n",
       "      <th>52</th>\n",
       "      <td>1203</td>\n",
       "      <td>Customer B3</td>\n",
       "      <td>Supreme Pizza (Whole), Ice Cream (Chocolate), ...</td>\n",
       "      <td>4</td>\n",
       "      <td>30.95</td>\n",
       "      <td>Credit Card</td>\n",
       "      <td>MasterCard</td>\n",
       "    </tr>\n",
       "    <tr>\n",
       "      <th>53</th>\n",
       "      <td>1204</td>\n",
       "      <td>Customer B4</td>\n",
       "      <td>Cheese Pizza (Slice), Fries, Soda</td>\n",
       "      <td>3</td>\n",
       "      <td>21.15</td>\n",
       "      <td>Credit Card</td>\n",
       "      <td>MasterCard</td>\n",
       "    </tr>\n",
       "    <tr>\n",
       "      <th>54</th>\n",
       "      <td>1205</td>\n",
       "      <td>Customer B5</td>\n",
       "      <td>Chicken Sandwich, Fries, Soda</td>\n",
       "      <td>5</td>\n",
       "      <td>43.25</td>\n",
       "      <td>Credit Card</td>\n",
       "      <td>MasterCard</td>\n",
       "    </tr>\n",
       "    <tr>\n",
       "      <th>55</th>\n",
       "      <td>1206</td>\n",
       "      <td>Customer B6</td>\n",
       "      <td>Hot Dog, Ice Cream (Strawberry)</td>\n",
       "      <td>2</td>\n",
       "      <td>9.50</td>\n",
       "      <td>Credit Card</td>\n",
       "      <td>MasterCard</td>\n",
       "    </tr>\n",
       "    <tr>\n",
       "      <th>61</th>\n",
       "      <td>1212</td>\n",
       "      <td>Customer B12</td>\n",
       "      <td>Water Bottle, Soda</td>\n",
       "      <td>3</td>\n",
       "      <td>11.40</td>\n",
       "      <td>Credit Card</td>\n",
       "      <td>MasterCard</td>\n",
       "    </tr>\n",
       "    <tr>\n",
       "      <th>64</th>\n",
       "      <td>1215</td>\n",
       "      <td>Customer B15</td>\n",
       "      <td>Chicken Sandwich, Fries, Popcorn, Soda</td>\n",
       "      <td>3</td>\n",
       "      <td>30.45</td>\n",
       "      <td>Credit Card</td>\n",
       "      <td>MasterCard</td>\n",
       "    </tr>\n",
       "    <tr>\n",
       "      <th>67</th>\n",
       "      <td>1218</td>\n",
       "      <td>Customer B18</td>\n",
       "      <td>Hot Dog, Lemonade</td>\n",
       "      <td>4</td>\n",
       "      <td>17.00</td>\n",
       "      <td>Credit Card</td>\n",
       "      <td>MasterCard</td>\n",
       "    </tr>\n",
       "    <tr>\n",
       "      <th>73</th>\n",
       "      <td>1224</td>\n",
       "      <td>Customer B24</td>\n",
       "      <td>Pepperoni Pizza (Slice), Water Bottle</td>\n",
       "      <td>3</td>\n",
       "      <td>20.48</td>\n",
       "      <td>Credit Card</td>\n",
       "      <td>MasterCard</td>\n",
       "    </tr>\n",
       "    <tr>\n",
       "      <th>75</th>\n",
       "      <td>1226</td>\n",
       "      <td>Customer B26</td>\n",
       "      <td>Fries, Ice Cream (Chocolate)</td>\n",
       "      <td>3</td>\n",
       "      <td>15.60</td>\n",
       "      <td>Credit Card</td>\n",
       "      <td>MasterCard</td>\n",
       "    </tr>\n",
       "    <tr>\n",
       "      <th>76</th>\n",
       "      <td>1227</td>\n",
       "      <td>Customer B27</td>\n",
       "      <td>Whole Pepperoni, Soda</td>\n",
       "      <td>4</td>\n",
       "      <td>23.25</td>\n",
       "      <td>Credit Card</td>\n",
       "      <td>MasterCard</td>\n",
       "    </tr>\n",
       "    <tr>\n",
       "      <th>78</th>\n",
       "      <td>1229</td>\n",
       "      <td>Customer B29</td>\n",
       "      <td>Chicken Sandwich, Ice Cream (Vanilla)</td>\n",
       "      <td>3</td>\n",
       "      <td>23.25</td>\n",
       "      <td>Credit Card</td>\n",
       "      <td>MasterCard</td>\n",
       "    </tr>\n",
       "    <tr>\n",
       "      <th>83</th>\n",
       "      <td>1234</td>\n",
       "      <td>Customer B34</td>\n",
       "      <td>Hot Dog, Popcorn, Soda</td>\n",
       "      <td>3</td>\n",
       "      <td>14.85</td>\n",
       "      <td>Credit Card</td>\n",
       "      <td>MasterCard</td>\n",
       "    </tr>\n",
       "    <tr>\n",
       "      <th>86</th>\n",
       "      <td>1237</td>\n",
       "      <td>Customer B37</td>\n",
       "      <td>Ice Cream (Strawberry), Water Bottle</td>\n",
       "      <td>3</td>\n",
       "      <td>15.30</td>\n",
       "      <td>Credit Card</td>\n",
       "      <td>MasterCard</td>\n",
       "    </tr>\n",
       "    <tr>\n",
       "      <th>87</th>\n",
       "      <td>1238</td>\n",
       "      <td>Customer B38</td>\n",
       "      <td>Whole Pepperoni, Lemonade</td>\n",
       "      <td>4</td>\n",
       "      <td>21.25</td>\n",
       "      <td>Credit Card</td>\n",
       "      <td>MasterCard</td>\n",
       "    </tr>\n",
       "    <tr>\n",
       "      <th>90</th>\n",
       "      <td>1241</td>\n",
       "      <td>Customer B41</td>\n",
       "      <td>Hot Dog</td>\n",
       "      <td>3</td>\n",
       "      <td>5.25</td>\n",
       "      <td>Credit Card</td>\n",
       "      <td>MasterCard</td>\n",
       "    </tr>\n",
       "    <tr>\n",
       "      <th>92</th>\n",
       "      <td>1243</td>\n",
       "      <td>Customer B43</td>\n",
       "      <td>Chicken Sandwich, Fries, Popcorn, Soda</td>\n",
       "      <td>2</td>\n",
       "      <td>20.30</td>\n",
       "      <td>Credit Card</td>\n",
       "      <td>MasterCard</td>\n",
       "    </tr>\n",
       "    <tr>\n",
       "      <th>95</th>\n",
       "      <td>1246</td>\n",
       "      <td>Customer B46</td>\n",
       "      <td>Popcorn, Ice Cream (Vanilla)</td>\n",
       "      <td>2</td>\n",
       "      <td>9.00</td>\n",
       "      <td>Credit Card</td>\n",
       "      <td>MasterCard</td>\n",
       "    </tr>\n",
       "    <tr>\n",
       "      <th>97</th>\n",
       "      <td>1248</td>\n",
       "      <td>Customer B48</td>\n",
       "      <td>Chicken Sandwich, Fries, Soda</td>\n",
       "      <td>2</td>\n",
       "      <td>17.30</td>\n",
       "      <td>Credit Card</td>\n",
       "      <td>MasterCard</td>\n",
       "    </tr>\n",
       "    <tr>\n",
       "      <th>98</th>\n",
       "      <td>1249</td>\n",
       "      <td>Customer B49</td>\n",
       "      <td>Pepperoni Pizza (Slice), Soda</td>\n",
       "      <td>2</td>\n",
       "      <td>9.90</td>\n",
       "      <td>Credit Card</td>\n",
       "      <td>MasterCard</td>\n",
       "    </tr>\n",
       "  </tbody>\n",
       "</table>\n",
       "</div>"
      ],
      "text/plain": [
       "    Order Number Customer Name  \\\n",
       "2           1113   Customer A3   \n",
       "8           1119   Customer A9   \n",
       "18          1128  Customer A19   \n",
       "19          1129  Customer A20   \n",
       "27          1137  Customer A28   \n",
       "30          1140  Customer A31   \n",
       "31          1141  Customer A32   \n",
       "34          1144  Customer A35   \n",
       "38          1147  Customer A39   \n",
       "40          1149  Customer A41   \n",
       "43          1152  Customer A44   \n",
       "44          1153  Customer A45   \n",
       "52          1203   Customer B3   \n",
       "53          1204   Customer B4   \n",
       "54          1205   Customer B5   \n",
       "55          1206   Customer B6   \n",
       "61          1212  Customer B12   \n",
       "64          1215  Customer B15   \n",
       "67          1218  Customer B18   \n",
       "73          1224  Customer B24   \n",
       "75          1226  Customer B26   \n",
       "76          1227  Customer B27   \n",
       "78          1229  Customer B29   \n",
       "83          1234  Customer B34   \n",
       "86          1237  Customer B37   \n",
       "87          1238  Customer B38   \n",
       "90          1241  Customer B41   \n",
       "92          1243  Customer B43   \n",
       "95          1246  Customer B46   \n",
       "97          1248  Customer B48   \n",
       "98          1249  Customer B49   \n",
       "\n",
       "                                      Concession Item  Quantity  Total Cost  \\\n",
       "2                                    Chicken Sandwich         2        9.50   \n",
       "8                 Hot Dog, Cheese Pizza (Slice), Soda         5       33.00   \n",
       "18                               Whole Meatball, Soda         6       20.95   \n",
       "19                 Cheese Pizza (Slice), Water Bottle         2       10.50   \n",
       "27              Pepperoni Pizza (Slice), Water Bottle         2       10.70   \n",
       "30                       Hot Dog, Ice Cream (Vanilla)         3       14.25   \n",
       "31                               Hot Dog, Fries, Soda         3       16.95   \n",
       "34                               Hot Dog, Fries, Soda         3       16.95   \n",
       "38                    Popcorn, Ice Cream (Strawberry)         3       13.50   \n",
       "40                      Pepperoni Pizza (Slice), Soda         1        4.95   \n",
       "43             Chicken Sandwich, Fries, Popcorn, Soda         4       40.60   \n",
       "44                      Chicken Sandwich, Fries, Soda         5       43.25   \n",
       "52  Supreme Pizza (Whole), Ice Cream (Chocolate), ...         4       30.95   \n",
       "53                  Cheese Pizza (Slice), Fries, Soda         3       21.15   \n",
       "54                      Chicken Sandwich, Fries, Soda         5       43.25   \n",
       "55                    Hot Dog, Ice Cream (Strawberry)         2        9.50   \n",
       "61                                 Water Bottle, Soda         3       11.40   \n",
       "64             Chicken Sandwich, Fries, Popcorn, Soda         3       30.45   \n",
       "67                                  Hot Dog, Lemonade         4       17.00   \n",
       "73              Pepperoni Pizza (Slice), Water Bottle         3       20.48   \n",
       "75                       Fries, Ice Cream (Chocolate)         3       15.60   \n",
       "76                              Whole Pepperoni, Soda         4       23.25   \n",
       "78              Chicken Sandwich, Ice Cream (Vanilla)         3       23.25   \n",
       "83                             Hot Dog, Popcorn, Soda         3       14.85   \n",
       "86               Ice Cream (Strawberry), Water Bottle         3       15.30   \n",
       "87                          Whole Pepperoni, Lemonade         4       21.25   \n",
       "90                                            Hot Dog         3        5.25   \n",
       "92             Chicken Sandwich, Fries, Popcorn, Soda         2       20.30   \n",
       "95                       Popcorn, Ice Cream (Vanilla)         2        9.00   \n",
       "97                      Chicken Sandwich, Fries, Soda         2       17.30   \n",
       "98                      Pepperoni Pizza (Slice), Soda         2        9.90   \n",
       "\n",
       "   Payment Method Payment Type  \n",
       "2     Credit Card   MasterCard  \n",
       "8     Credit Card   MasterCard  \n",
       "18    Credit Card   MasterCard  \n",
       "19    Credit Card   MasterCard  \n",
       "27    Credit Card   MasterCard  \n",
       "30    Credit Card   MasterCard  \n",
       "31    Credit Card   MasterCard  \n",
       "34    Credit Card   MasterCard  \n",
       "38    Credit Card   MasterCard  \n",
       "40    Credit Card   MasterCard  \n",
       "43    Credit Card   MasterCard  \n",
       "44    Credit Card   MasterCard  \n",
       "52    Credit Card   MasterCard  \n",
       "53    Credit Card   MasterCard  \n",
       "54    Credit Card   MasterCard  \n",
       "55    Credit Card   MasterCard  \n",
       "61    Credit Card   MasterCard  \n",
       "64    Credit Card   MasterCard  \n",
       "67    Credit Card   MasterCard  \n",
       "73    Credit Card   MasterCard  \n",
       "75    Credit Card   MasterCard  \n",
       "76    Credit Card   MasterCard  \n",
       "78    Credit Card   MasterCard  \n",
       "83    Credit Card   MasterCard  \n",
       "86    Credit Card   MasterCard  \n",
       "87    Credit Card   MasterCard  \n",
       "90    Credit Card   MasterCard  \n",
       "92    Credit Card   MasterCard  \n",
       "95    Credit Card   MasterCard  \n",
       "97    Credit Card   MasterCard  \n",
       "98    Credit Card   MasterCard  "
      ]
     },
     "execution_count": 51,
     "metadata": {},
     "output_type": "execute_result"
    }
   ],
   "source": [
    "concession_data[concession_data['Payment Type'] == 'MasterCard']"
   ]
  },
  {
   "cell_type": "markdown",
   "id": "9a27f007-d621-42fa-8408-3d93255bfbc7",
   "metadata": {},
   "source": [
    "Cost is more than 10 bucks for more than 2 customers (with head count of 10)"
   ]
  },
  {
   "cell_type": "code",
   "execution_count": 57,
   "id": "bf5f91cf-b3f1-4f12-9c18-e9fd2d4db4b4",
   "metadata": {},
   "outputs": [
    {
     "data": {
      "text/html": [
       "<div>\n",
       "<style scoped>\n",
       "    .dataframe tbody tr th:only-of-type {\n",
       "        vertical-align: middle;\n",
       "    }\n",
       "\n",
       "    .dataframe tbody tr th {\n",
       "        vertical-align: top;\n",
       "    }\n",
       "\n",
       "    .dataframe thead th {\n",
       "        text-align: right;\n",
       "    }\n",
       "</style>\n",
       "<table border=\"1\" class=\"dataframe\">\n",
       "  <thead>\n",
       "    <tr style=\"text-align: right;\">\n",
       "      <th></th>\n",
       "      <th>Order Number</th>\n",
       "      <th>Customer Name</th>\n",
       "      <th>Concession Item</th>\n",
       "      <th>Quantity</th>\n",
       "      <th>Total Cost</th>\n",
       "      <th>Payment Method</th>\n",
       "      <th>Payment Type</th>\n",
       "    </tr>\n",
       "  </thead>\n",
       "  <tbody>\n",
       "    <tr>\n",
       "      <th>5</th>\n",
       "      <td>1116</td>\n",
       "      <td>Customer A6</td>\n",
       "      <td>Supreme Pizza (Whole)</td>\n",
       "      <td>4</td>\n",
       "      <td>11.25</td>\n",
       "      <td>Credit Card</td>\n",
       "      <td>Visa</td>\n",
       "    </tr>\n",
       "    <tr>\n",
       "      <th>8</th>\n",
       "      <td>1119</td>\n",
       "      <td>Customer A9</td>\n",
       "      <td>Hot Dog, Cheese Pizza (Slice), Soda</td>\n",
       "      <td>5</td>\n",
       "      <td>33.00</td>\n",
       "      <td>Credit Card</td>\n",
       "      <td>MasterCard</td>\n",
       "    </tr>\n",
       "    <tr>\n",
       "      <th>9</th>\n",
       "      <td>1120</td>\n",
       "      <td>Customer A10</td>\n",
       "      <td>Chicken Sandwich, Fries, Soda</td>\n",
       "      <td>2</td>\n",
       "      <td>13.90</td>\n",
       "      <td>Credit Card</td>\n",
       "      <td>Discover</td>\n",
       "    </tr>\n",
       "    <tr>\n",
       "      <th>10</th>\n",
       "      <td>1121</td>\n",
       "      <td>Customer A11</td>\n",
       "      <td>Chicken Sandwich, Fries, Popcorn, Soda</td>\n",
       "      <td>3</td>\n",
       "      <td>30.45</td>\n",
       "      <td>Credit Card</td>\n",
       "      <td>Visa</td>\n",
       "    </tr>\n",
       "    <tr>\n",
       "      <th>11</th>\n",
       "      <td>1122</td>\n",
       "      <td>Customer A12</td>\n",
       "      <td>Hot Dog, Ice Cream (Chocolate)</td>\n",
       "      <td>5</td>\n",
       "      <td>23.75</td>\n",
       "      <td>Credit Card</td>\n",
       "      <td>Visa</td>\n",
       "    </tr>\n",
       "    <tr>\n",
       "      <th>12</th>\n",
       "      <td>1123</td>\n",
       "      <td>Customer A13</td>\n",
       "      <td>Hot Dog, Soda</td>\n",
       "      <td>3</td>\n",
       "      <td>10.35</td>\n",
       "      <td>Credit Card</td>\n",
       "      <td>Visa</td>\n",
       "    </tr>\n",
       "    <tr>\n",
       "      <th>13</th>\n",
       "      <td>1124</td>\n",
       "      <td>Customer A14</td>\n",
       "      <td>Hot Dog, Soda</td>\n",
       "      <td>6</td>\n",
       "      <td>20.70</td>\n",
       "      <td>Credit Card</td>\n",
       "      <td>Discover</td>\n",
       "    </tr>\n",
       "    <tr>\n",
       "      <th>14</th>\n",
       "      <td>1124</td>\n",
       "      <td>Customer A15</td>\n",
       "      <td>Whole Pepperoni, Lemonade</td>\n",
       "      <td>4</td>\n",
       "      <td>21.25</td>\n",
       "      <td>Credit Card</td>\n",
       "      <td>Visa</td>\n",
       "    </tr>\n",
       "    <tr>\n",
       "      <th>15</th>\n",
       "      <td>1125</td>\n",
       "      <td>Customer A16</td>\n",
       "      <td>Hot Dog, Ice Cream (Strawberry)</td>\n",
       "      <td>3</td>\n",
       "      <td>14.75</td>\n",
       "      <td>Cash</td>\n",
       "      <td>-</td>\n",
       "    </tr>\n",
       "    <tr>\n",
       "      <th>16</th>\n",
       "      <td>1126</td>\n",
       "      <td>Customer A17</td>\n",
       "      <td>Hot Dog, Fries, Soda</td>\n",
       "      <td>5</td>\n",
       "      <td>28.25</td>\n",
       "      <td>Credit Card</td>\n",
       "      <td>Discover</td>\n",
       "    </tr>\n",
       "  </tbody>\n",
       "</table>\n",
       "</div>"
      ],
      "text/plain": [
       "    Order Number Customer Name                         Concession Item  \\\n",
       "5           1116   Customer A6                   Supreme Pizza (Whole)   \n",
       "8           1119   Customer A9     Hot Dog, Cheese Pizza (Slice), Soda   \n",
       "9           1120  Customer A10           Chicken Sandwich, Fries, Soda   \n",
       "10          1121  Customer A11  Chicken Sandwich, Fries, Popcorn, Soda   \n",
       "11          1122  Customer A12          Hot Dog, Ice Cream (Chocolate)   \n",
       "12          1123  Customer A13                           Hot Dog, Soda   \n",
       "13          1124  Customer A14                           Hot Dog, Soda   \n",
       "14          1124  Customer A15               Whole Pepperoni, Lemonade   \n",
       "15          1125  Customer A16         Hot Dog, Ice Cream (Strawberry)   \n",
       "16          1126  Customer A17                    Hot Dog, Fries, Soda   \n",
       "\n",
       "    Quantity  Total Cost Payment Method Payment Type  \n",
       "5          4       11.25    Credit Card         Visa  \n",
       "8          5       33.00    Credit Card   MasterCard  \n",
       "9          2       13.90    Credit Card     Discover  \n",
       "10         3       30.45    Credit Card         Visa  \n",
       "11         5       23.75    Credit Card         Visa  \n",
       "12         3       10.35    Credit Card         Visa  \n",
       "13         6       20.70    Credit Card     Discover  \n",
       "14         4       21.25    Credit Card         Visa  \n",
       "15         3       14.75           Cash            -  \n",
       "16         5       28.25    Credit Card     Discover  "
      ]
     },
     "execution_count": 57,
     "metadata": {},
     "output_type": "execute_result"
    }
   ],
   "source": [
    "concession_data[(concession_data[\"Quantity\"] >= 2) & (concession_data['Total Cost'] >= 10)].head(10)"
   ]
  },
  {
   "cell_type": "markdown",
   "id": "625a218c-56f6-45df-ae13-2d0eb6c10325",
   "metadata": {},
   "source": [
    "save it to a csv file with filtered values"
   ]
  },
  {
   "cell_type": "code",
   "execution_count": 69,
   "id": "c6be05e8-68c4-4a59-a16f-50b306230758",
   "metadata": {},
   "outputs": [
    {
     "data": {
      "text/html": [
       "<div>\n",
       "<style scoped>\n",
       "    .dataframe tbody tr th:only-of-type {\n",
       "        vertical-align: middle;\n",
       "    }\n",
       "\n",
       "    .dataframe tbody tr th {\n",
       "        vertical-align: top;\n",
       "    }\n",
       "\n",
       "    .dataframe thead th {\n",
       "        text-align: right;\n",
       "    }\n",
       "</style>\n",
       "<table border=\"1\" class=\"dataframe\">\n",
       "  <thead>\n",
       "    <tr style=\"text-align: right;\">\n",
       "      <th></th>\n",
       "      <th>index</th>\n",
       "      <th>Order Number</th>\n",
       "      <th>Customer Name</th>\n",
       "      <th>Concession Item</th>\n",
       "      <th>Quantity</th>\n",
       "      <th>Total Cost</th>\n",
       "      <th>Payment Method</th>\n",
       "      <th>Payment Type</th>\n",
       "    </tr>\n",
       "  </thead>\n",
       "  <tbody>\n",
       "    <tr>\n",
       "      <th>0</th>\n",
       "      <td>5</td>\n",
       "      <td>1116</td>\n",
       "      <td>Customer A6</td>\n",
       "      <td>Supreme Pizza (Whole)</td>\n",
       "      <td>4</td>\n",
       "      <td>11.25</td>\n",
       "      <td>Credit Card</td>\n",
       "      <td>Visa</td>\n",
       "    </tr>\n",
       "    <tr>\n",
       "      <th>1</th>\n",
       "      <td>8</td>\n",
       "      <td>1119</td>\n",
       "      <td>Customer A9</td>\n",
       "      <td>Hot Dog, Cheese Pizza (Slice), Soda</td>\n",
       "      <td>5</td>\n",
       "      <td>33.00</td>\n",
       "      <td>Credit Card</td>\n",
       "      <td>MasterCard</td>\n",
       "    </tr>\n",
       "    <tr>\n",
       "      <th>2</th>\n",
       "      <td>9</td>\n",
       "      <td>1120</td>\n",
       "      <td>Customer A10</td>\n",
       "      <td>Chicken Sandwich, Fries, Soda</td>\n",
       "      <td>2</td>\n",
       "      <td>13.90</td>\n",
       "      <td>Credit Card</td>\n",
       "      <td>Discover</td>\n",
       "    </tr>\n",
       "    <tr>\n",
       "      <th>3</th>\n",
       "      <td>10</td>\n",
       "      <td>1121</td>\n",
       "      <td>Customer A11</td>\n",
       "      <td>Chicken Sandwich, Fries, Popcorn, Soda</td>\n",
       "      <td>3</td>\n",
       "      <td>30.45</td>\n",
       "      <td>Credit Card</td>\n",
       "      <td>Visa</td>\n",
       "    </tr>\n",
       "    <tr>\n",
       "      <th>4</th>\n",
       "      <td>11</td>\n",
       "      <td>1122</td>\n",
       "      <td>Customer A12</td>\n",
       "      <td>Hot Dog, Ice Cream (Chocolate)</td>\n",
       "      <td>5</td>\n",
       "      <td>23.75</td>\n",
       "      <td>Credit Card</td>\n",
       "      <td>Visa</td>\n",
       "    </tr>\n",
       "    <tr>\n",
       "      <th>...</th>\n",
       "      <td>...</td>\n",
       "      <td>...</td>\n",
       "      <td>...</td>\n",
       "      <td>...</td>\n",
       "      <td>...</td>\n",
       "      <td>...</td>\n",
       "      <td>...</td>\n",
       "      <td>...</td>\n",
       "    </tr>\n",
       "    <tr>\n",
       "      <th>67</th>\n",
       "      <td>92</td>\n",
       "      <td>1243</td>\n",
       "      <td>Customer B43</td>\n",
       "      <td>Chicken Sandwich, Fries, Popcorn, Soda</td>\n",
       "      <td>2</td>\n",
       "      <td>20.30</td>\n",
       "      <td>Credit Card</td>\n",
       "      <td>MasterCard</td>\n",
       "    </tr>\n",
       "    <tr>\n",
       "      <th>68</th>\n",
       "      <td>93</td>\n",
       "      <td>1244</td>\n",
       "      <td>Customer B44</td>\n",
       "      <td>Chicken Sandwich, Fries, Water Bottle</td>\n",
       "      <td>2</td>\n",
       "      <td>18.10</td>\n",
       "      <td>Credit Card</td>\n",
       "      <td>Visa</td>\n",
       "    </tr>\n",
       "    <tr>\n",
       "      <th>69</th>\n",
       "      <td>94</td>\n",
       "      <td>1245</td>\n",
       "      <td>Customer B45</td>\n",
       "      <td>Popcorn, Ice Cream (Strawberry)</td>\n",
       "      <td>3</td>\n",
       "      <td>13.50</td>\n",
       "      <td>Credit Card</td>\n",
       "      <td>Visa</td>\n",
       "    </tr>\n",
       "    <tr>\n",
       "      <th>70</th>\n",
       "      <td>97</td>\n",
       "      <td>1248</td>\n",
       "      <td>Customer B48</td>\n",
       "      <td>Chicken Sandwich, Fries, Soda</td>\n",
       "      <td>2</td>\n",
       "      <td>17.30</td>\n",
       "      <td>Credit Card</td>\n",
       "      <td>MasterCard</td>\n",
       "    </tr>\n",
       "    <tr>\n",
       "      <th>71</th>\n",
       "      <td>99</td>\n",
       "      <td>1250</td>\n",
       "      <td>Customer B50</td>\n",
       "      <td>Ice Cream (Strawberry)</td>\n",
       "      <td>4</td>\n",
       "      <td>12.00</td>\n",
       "      <td>Credit Card</td>\n",
       "      <td>Visa</td>\n",
       "    </tr>\n",
       "  </tbody>\n",
       "</table>\n",
       "<p>72 rows × 8 columns</p>\n",
       "</div>"
      ],
      "text/plain": [
       "    index  Order Number Customer Name                         Concession Item  \\\n",
       "0       5          1116   Customer A6                   Supreme Pizza (Whole)   \n",
       "1       8          1119   Customer A9     Hot Dog, Cheese Pizza (Slice), Soda   \n",
       "2       9          1120  Customer A10           Chicken Sandwich, Fries, Soda   \n",
       "3      10          1121  Customer A11  Chicken Sandwich, Fries, Popcorn, Soda   \n",
       "4      11          1122  Customer A12          Hot Dog, Ice Cream (Chocolate)   \n",
       "..    ...           ...           ...                                     ...   \n",
       "67     92          1243  Customer B43  Chicken Sandwich, Fries, Popcorn, Soda   \n",
       "68     93          1244  Customer B44   Chicken Sandwich, Fries, Water Bottle   \n",
       "69     94          1245  Customer B45         Popcorn, Ice Cream (Strawberry)   \n",
       "70     97          1248  Customer B48           Chicken Sandwich, Fries, Soda   \n",
       "71     99          1250  Customer B50                  Ice Cream (Strawberry)   \n",
       "\n",
       "    Quantity  Total Cost Payment Method Payment Type  \n",
       "0          4       11.25    Credit Card         Visa  \n",
       "1          5       33.00    Credit Card   MasterCard  \n",
       "2          2       13.90    Credit Card     Discover  \n",
       "3          3       30.45    Credit Card         Visa  \n",
       "4          5       23.75    Credit Card         Visa  \n",
       "..       ...         ...            ...          ...  \n",
       "67         2       20.30    Credit Card   MasterCard  \n",
       "68         2       18.10    Credit Card         Visa  \n",
       "69         3       13.50    Credit Card         Visa  \n",
       "70         2       17.30    Credit Card   MasterCard  \n",
       "71         4       12.00    Credit Card         Visa  \n",
       "\n",
       "[72 rows x 8 columns]"
      ]
     },
     "execution_count": 69,
     "metadata": {},
     "output_type": "execute_result"
    }
   ],
   "source": [
    "#set the filter value that you wish to input\n",
    "more_than_two = concession_data[(concession_data[\"Quantity\"] >= 2) & (concession_data['Total Cost'] >= 10)]\n",
    "#rest the index\n",
    "more_than_two = more_than_two.reset_index()\n",
    "#download it to a new file for eval\n",
    "more_than_two.to_csv('Customers With Two or More Orders and Total Cost Greater Than or Equal To $10.00.csv')\n",
    "#here's the new dataset frame\n",
    "more_than_two"
   ]
  },
  {
   "cell_type": "code",
   "execution_count": null,
   "id": "0733e4a3-4940-4ce1-ae26-adfcebf8a028",
   "metadata": {},
   "outputs": [],
   "source": []
  },
  {
   "cell_type": "code",
   "execution_count": null,
   "id": "1dcbdc7e-54c9-40bd-80f1-35028e4f28e6",
   "metadata": {},
   "outputs": [],
   "source": []
  },
  {
   "cell_type": "markdown",
   "id": "1f480d39-824d-4537-a2af-2c4b94c564a5",
   "metadata": {},
   "source": [
    "### Part II: Analyzing the Data Contents \n",
    "\n",
    "Analyze the data contents by filtering the data contents using the subparts below."
   ]
  },
  {
   "cell_type": "markdown",
   "id": "4a5e457c-a6fc-4815-ae90-04e5e95812b8",
   "metadata": {},
   "source": [
    "This section explains the trends that people prefer on their concession foods.\n",
    "\n",
    "Contents...\n",
    "\n",
    "- ##### Subpart A: Ranking the Top 5 Favorite Order Item that Customers Buy\n",
    "\n",
    "- ##### Subpart B: Credit Card Brand Preference at the Concession Stand (e.g: Visa, MasterCard, Discover)\n",
    "\n",
    "- ##### Subpart C: Overall Spending Effect on these Customers Orders\n",
    "\n",
    "\n",
    "As a token for this project, this helps analyze business trends in what ways the baseball commitee can do to improve performance operations at the simulated baseball game.\n",
    "\n",
    "Compare this by testing it out with Power BI and Tableau to see the similarities and differences."
   ]
  },
  {
   "cell_type": "markdown",
   "id": "8fd5566a-58c3-4b9d-8a5c-1a74618d9fdf",
   "metadata": {},
   "source": [
    "#### Reference Tool for Order"
   ]
  },
  {
   "cell_type": "code",
   "execution_count": 122,
   "id": "b0db62e9-bd48-4749-9093-1ea8ce413c3b",
   "metadata": {},
   "outputs": [
    {
     "data": {
      "text/plain": [
       "Concession Item\n",
       "Hot Dog, Soda                                         8\n",
       "Chicken Sandwich, Fries, Soda                         7\n",
       "Popcorn, Soda                                         6\n",
       "Chicken Sandwich, Fries, Popcorn, Soda                5\n",
       "Pepperoni Pizza (Slice), Soda                         4\n",
       "Hot Dog, Fries, Soda                                  4\n",
       "Whole Pepperoni, Lemonade                             3\n",
       "Hot Dog, Lemonade                                     3\n",
       "Hot Dog, Popcorn, Soda                                3\n",
       "Cheese Pizza (Slice), Water Bottle                    3\n",
       "Hot Dog, Ice Cream (Strawberry)                       3\n",
       "Hot Dog                                               3\n",
       "Chicken Sandwich                                      3\n",
       "Hot Dog, Ice Cream (Chocolate)                        2\n",
       "Water Bottle                                          2\n",
       "Popcorn, Ice Cream (Vanilla)                          2\n",
       "Popcorn, Ice Cream (Strawberry)                       2\n",
       "Ice Cream (Vanilla)                                   2\n",
       "Pepperoni Pizza (Slice), Water Bottle                 2\n",
       "Hot Dog, Ice Cream (Vanilla)                          2\n",
       "Ice Cream (Strawberry)                                2\n",
       "Chicken Sandwich, Fries, Water Bottle                 2\n",
       "Whole Meatball, Soda                                  2\n",
       "Chicken Sandwich, Ice Cream (Vanilla)                 1\n",
       "Fries, Ice Cream (Chocolate)                          1\n",
       "Hot Dog, Meatball Pizza (Slice), Soda                 1\n",
       "Meatball Pizza (Slice), Soda                          1\n",
       "Ice Cream (Strawberry), Water Bottle                  1\n",
       "Cheese Pizza (Slice), Lemonade                        1\n",
       "Whole Pepperoni, Soda                                 1\n",
       "Cheese Pizza (Slice), Ice Cream (Chocolate)           1\n",
       "Ice Cream (Chocolate)                                 1\n",
       "Water Bottle, Soda                                    1\n",
       "Cheese Pizza (Slice), Ice Cream (Strawberry)          1\n",
       "Chicken Sandwich, Fries, Ice Cream (Strawberry)       1\n",
       "Whole Meatball, Ice Cream (Vanilla), Soda             1\n",
       "Cheese Pizza (Slice), Fries, Soda                     1\n",
       "Supreme Pizza (Whole), Ice Cream (Chocolate), Soda    1\n",
       "Hot Dog, Pepperoni  Pizza (Slice), Soda               1\n",
       "Ice Cream (Vanilla), Water Bottle                     1\n",
       "Ice Cream (Vanilla), Ice Cream (Strawberry)           1\n",
       "Whole Supreme                                         1\n",
       "Popcorn                                               1\n",
       "Hot Dog, Cheese Pizza (Slice), Soda                   1\n",
       "Hot Dog, Water Bottle                                 1\n",
       "Pepperoni Pizza (Slice)                               1\n",
       "Supreme Pizza (Whole)                                 1\n",
       "Supreme Pizza (Whole), Water Bottle                   1\n",
       "Name: count, dtype: int64"
      ]
     },
     "execution_count": 122,
     "metadata": {},
     "output_type": "execute_result"
    }
   ],
   "source": [
    "#refer back to the value_counts we discused this morning\n",
    "concession_data['Concession Item'].value_counts()"
   ]
  },
  {
   "cell_type": "code",
   "execution_count": null,
   "id": "25fc78c7-35f7-48a4-b428-d93efe805444",
   "metadata": {},
   "outputs": [],
   "source": []
  },
  {
   "cell_type": "markdown",
   "id": "99628376-5b8f-45c5-a2fe-e13d6231ad34",
   "metadata": {},
   "source": [
    "#### Subpart A: Ranking the Top 5 Favorite Order Item that Customers Buy\n",
    "\n",
    "Analyze which customers prefer their top 5 favorite order from the concession menu"
   ]
  },
  {
   "cell_type": "markdown",
   "id": "2205d445-4d4a-4bb2-aa6f-353259d8bf5e",
   "metadata": {},
   "source": [
    "##### Explaination 1: Using Pie Chart to Analyze Percentages \n",
    "by overall..."
   ]
  },
  {
   "cell_type": "code",
   "execution_count": 2,
   "id": "8ec1ffce-6217-4e4f-a94d-40623e3fbe27",
   "metadata": {},
   "outputs": [
    {
     "data": {
      "image/png": "[encoded data removed]",
      "text/plain": [
       "<Figure size 640x480 with 1 Axes>"
      ]
     },
     "metadata": {},
     "output_type": "display_data"
    },
    {
     "data": {
      "text/plain": [
       "<module 'matplotlib.pyplot' from '/Users/neilvu/Library/jupyterlab-desktop/jlab_server/lib/python3.12/site-packages/matplotlib/pyplot.py'>"
      ]
     },
     "execution_count": 2,
     "metadata": {},
     "output_type": "execute_result"
    },
    {
     "data": {
      "text/plain": [
       "<Figure size 640x480 with 0 Axes>"
      ]
     },
     "metadata": {},
     "output_type": "display_data"
    }
   ],
   "source": [
    "#mathplotlib\n",
    "import matplotlib.pyplot as plt\n",
    "#numpy\n",
    "import numpy as np\n",
    "#pandas\n",
    "import pandas as pd\n",
    "\n",
    "\n",
    "def rank_top_5_popular_order(rank_1, rank_2, rank_3, rank_4, rank_5):\n",
    "    #List the top 5 Frequent Concession Items that Customers Ordered.\n",
    "    labels = ['Hot Dog and Soda', 'Chicken Sandwich, Fries, Soda', 'Popcorn & Soda', 'Chicken Sandwich, Fries, Popcorn, Soda (Mix)', 'Pepperoni Pizza (Slice), Soda']\n",
    "    #make a graph\n",
    "    plt.pie([rank_1, rank_2, rank_3, rank_4, rank_5], labels = labels, autopct = '%.2f %%')\n",
    "    #name of the title\n",
    "    plt.title('Top 5 Popular Orders Analysis')\n",
    "    #show me the graph\n",
    "    plt.show()\n",
    "    #save and export\n",
    "    plt.savefig(\"/Users/neilvu/Documents/Data Analyst/Projects/Hands-On Projects/Concession Stands (Fictional)/Popular Menu List Analysis.pdf\")\n",
    "    #return with this reuslt plt\n",
    "    return plt\n",
    "\n",
    "\n",
    "#specifc the rank of these popular orders found in this dataframe\n",
    "hot_dog = concession_data.loc[concession_data['Concession Item'] == \"Hot Dog, Soda\"].value_counts().count() #First Place\n",
    "chicken_sandwich = concession_data.loc[concession_data['Concession Item'] == 'Chicken Sandwich, Fries, Soda'].value_counts().count() #Second Place\n",
    "popcorn = concession_data.loc[concession_data['Concession Item'] == \"Popcorn, Soda\"].value_counts().count() #Third Place\n",
    "chicken_sandwich_mix = concession_data.loc[concession_data['Concession Item'] == \"Chicken Sandwich, Fries, Popcorn, Soda\"].value_counts().count() #Fourth Place\n",
    "pizza = concession_data.loc[concession_data['Concession Item'] == 'Pepperoni Pizza (Slice), Soda'].value_counts().count() #Fifth Place\n",
    "rank_top_5_popular_order(hot_dog, chicken_sandwich, popcorn, chicken_sandwich_mix, pizza)"
   ]
  },
  {
   "cell_type": "markdown",
   "id": "6101f27a-6569-4c93-a5bf-055615bc3c76",
   "metadata": {},
   "source": [
    "##### What does this mean from this circle graph?\n",
    "\n",
    "Out of the percentage in the top 5 orders, the majority had stated that purchasing hot dog and soda was one of the popular concession orders in the July 4th baseball. This shows that because hot dog is a baseball tradition, people choose more of that item as their favorite choice. Therefore, when combining with soda, it makes into a great meal deal, which the majority of customers had enjoyed their baseball meal."
   ]
  },
  {
   "cell_type": "code",
   "execution_count": null,
   "id": "70f26612-5f90-4a47-89fe-a6b5de1cd4ec",
   "metadata": {},
   "outputs": [],
   "source": []
  },
  {
   "cell_type": "markdown",
   "id": "fc2bb3f5-80d5-4c41-8c96-53da9d0e4e27",
   "metadata": {},
   "source": [
    "##### Explaination 2: Using Bar Graph to Analyze Customer Trends \n",
    "By overall, but more specifcially to customer trends of how many of those who ordered these item..."
   ]
  },
  {
   "cell_type": "code",
   "execution_count": 4,
   "id": "3f274e44-f2bb-474d-af8e-9d1882f7f908",
   "metadata": {},
   "outputs": [
    {
     "data": {
      "image/png": "[encoded data removed]",
      "text/plain": [
       "<Figure size 640x480 with 1 Axes>"
      ]
     },
     "metadata": {},
     "output_type": "display_data"
    },
    {
     "data": {
      "text/plain": [
       "<module 'matplotlib.pyplot' from '/Users/neilvu/Library/jupyterlab-desktop/jlab_server/lib/python3.12/site-packages/matplotlib/pyplot.py'>"
      ]
     },
     "execution_count": 4,
     "metadata": {},
     "output_type": "execute_result"
    },
    {
     "data": {
      "text/plain": [
       "<Figure size 640x480 with 0 Axes>"
      ]
     },
     "metadata": {},
     "output_type": "display_data"
    }
   ],
   "source": [
    "#mathplotlib\n",
    "import matplotlib.pyplot as plt\n",
    "\n",
    "def top_5_combo_orders (set_1, set_2, label, color):\n",
    "    \n",
    "    #include the figure axis\n",
    "    fig, ax = plt.subplots()\n",
    "\n",
    "    #include the axis as well the color specification\n",
    "    ax.bar(set_1, set_2, label=bar_labels, color=bar_colors)\n",
    "\n",
    "    #Apply the label y-axis\n",
    "    ax.set_ylabel('Amount of People Ordered')\n",
    "    #Apply the title\n",
    "    ax.set_title('Top 5 Popular Order Analysis')\n",
    "    #Apply the legend\n",
    "    ax.legend(title = \"Order Combo Types\")\n",
    "    \n",
    "    #show me the graph plot\n",
    "    plt.show()\n",
    "\n",
    "    #save and export\n",
    "    plt.savefig(\"/Users/neilvu/Documents/Data Analyst/Projects/Hands-On Projects/Concession Stands (Fictional)/Top 5 Popular Order Analysis (Bar Graph).pdf\")\n",
    "\n",
    "    #return this statement\n",
    "    return plt\n",
    "\n",
    "\n",
    "#label the axis \n",
    "top_5_order_types = ['Hot Dog', 'Chicken Sandwich', 'Popcorn', 'Chicken Sandwich', 'Pepperoni Pizza']\n",
    "amount_people_ordered = [8,7,6,5,4]\n",
    "#customize the selected axis\n",
    "#first part is for the legend labels to specify the meals\n",
    "bar_labels = ['Hot Dog & Soda', 'Chicken Sandwich, Fries, Soda', 'Popcorn & Soda', 'Chicken Sandwich, Fries, Popcorn, Soda (Mix)', 'Pepperoni Pizza (Slice), Soda']\n",
    "#second part is to color the labels\n",
    "bar_colors = ['tab:red', 'tab:orange', 'tab:green', 'tab:red']\n",
    "top_5_combo_orders(top_5_order_types, amount_people_ordered, label=bar_labels, color=bar_colors)"
   ]
  },
  {
   "cell_type": "markdown",
   "id": "fd594ec2-181f-41f4-b411-d85496ae1e84",
   "metadata": {},
   "source": [
    "##### What does this mean from this bar graph?\n",
    "\n",
    "Similarly from the circle graph above, but more specifically to the combo side, we can see that those who ordered just \"Hot Dog and Soda\" (be mindful of the word \"just\" since it highlights a specific part of the data value) was one of their favorite orders. The rest of the combo items were counted as there were 30 customers total who ordered the top 5 combo. \n",
    "\n",
    "Looking at the orange part, we can see that there were two popular combos who ordered \"Chicken Sandwich\", except that the difference was that from the circle graph above, even though more customers had chose \"Chicken Sandwich, Fries, Soda\", that later was combined with \"Chicken Sandwich, Fries, Popcorn, and Soda\" in the bar graph, because it was set into a single value that matches with this name \"Chicken Sandwich\". This is the reason when PANDAS has set this orange part as connected from from the red part under the \"Chicken Sandwich\" axis."
   ]
  },
  {
   "cell_type": "code",
   "execution_count": null,
   "id": "557ca96b-8c90-4895-b7a1-7ba17eab0d56",
   "metadata": {},
   "outputs": [],
   "source": []
  },
  {
   "cell_type": "markdown",
   "id": "860a3c46-0a4f-4e29-8152-ee5d603d7b88",
   "metadata": {},
   "source": [
    "#### Subpart B: Credit Card Brand Preference at the Concession Stand (e.g: Visa, MasterCard, Discover)\n",
    "\n",
    "When it comes to payment methods, which customers perfer using their credit card brands, given to the fact that credit cards are now more common in today's consumer world."
   ]
  },
  {
   "cell_type": "code",
   "execution_count": 138,
   "id": "6a8df49b-b36a-4c79-b2ef-46388f37ebe8",
   "metadata": {},
   "outputs": [
    {
     "data": {
      "text/plain": [
       "<module 'matplotlib.pyplot' from '/Users/neilvu/Library/jupyterlab-desktop/jlab_server/lib/python3.12/site-packages/matplotlib/pyplot.py'>"
      ]
     },
     "execution_count": 138,
     "metadata": {},
     "output_type": "execute_result"
    },
    {
     "data": {
      "image/png": "[encoded data removed]",
      "text/plain": [
       "<Figure size 640x480 with 1 Axes>"
      ]
     },
     "metadata": {},
     "output_type": "display_data"
    }
   ],
   "source": [
    "#mathplotlib\n",
    "import matplotlib.pyplot as plt\n",
    "#numpy\n",
    "import numpy as np\n",
    "#pandas\n",
    "import pandas as pd\n",
    "\n",
    "def preferred_credit_card_brands(card_brand_1, card_brand_2, card_brand_3):\n",
    "    #label the credit card brands\n",
    "    labels = ['Visa', 'MasterCard', 'Discover']\n",
    "    #visualize who has the most purchases\n",
    "    explode = (0, 0.2, 0)\n",
    "    #make a graph\n",
    "    plt.pie([card_brand_1, card_brand_2, card_brand_3], labels = labels, autopct = \"%.2f %%\", explode = explode)\n",
    "    #title name\n",
    "    plt.title(\"Credit Card Brand Preferences\")\n",
    "    #save and export file\n",
    "    plt.savefig(\"/Users/neilvu/Documents/Data Analyst/Projects/Hands-On Projects/Concession Stands (Fictional)/Credit Card Brand Preferences.pdf\")\n",
    "    #return with this result\n",
    "    return plt\n",
    "\n",
    "#specify the credit card brands\n",
    "Visa = concession_data.loc[concession_data['Payment Type'] == 'Visa'].value_counts().count()\n",
    "MasterCard = concession_data.loc[concession_data['Payment Type'] == 'MasterCard'].value_counts().count()\n",
    "Discover = concession_data.loc[concession_data['Payment Type'] == 'Discover'].value_counts().count()\n",
    "preferred_credit_card_brands(Visa, MasterCard, Discover)"
   ]
  },
  {
   "cell_type": "markdown",
   "id": "052e1210-b99f-4a76-9f7d-99fa57e7e425",
   "metadata": {},
   "source": [
    "##### What does this mean from this circle graph?\n",
    "\n",
    "When analyzing with purchase method trends (more specifically with the credit card brand side), we can see that the majority who ordered at the baseball concession stand has used MasterCard as their preferred payment method. This mostly was used to get the cashback rewards when caterogrizing concession stands as a restaurant, which therefore leads to greater chance of loyalty points to use the rewards to purchase other consumer goods. Since this concession accepts all major credit card brand, we like to say that MasterCard is the leading brand, which tells like all credit card marketing brands - the more you use and pay, the more cashback you get from all consumer retailers, including this stand.\n",
    "\n",
    "By using this data, we can then make decision to include MasterCard as a loyality points and a possible discount for customers in future games - to increase revenue and service."
   ]
  },
  {
   "cell_type": "code",
   "execution_count": null,
   "id": "da655611-7f58-426d-9e53-2361832b6345",
   "metadata": {},
   "outputs": [],
   "source": []
  },
  {
   "cell_type": "markdown",
   "id": "d2da5fbd-3b34-4d2a-adc7-c5b65d5ddecf",
   "metadata": {},
   "source": [
    "#### Subpart C: Overall Spending Effect on these Customers orders\n",
    "\n",
    "Create a circle graph visualizing which overall has the most spending combined from the orders"
   ]
  },
  {
   "cell_type": "code",
   "execution_count": 135,
   "id": "d0500c35-294a-432a-86a6-f1155e45f593",
   "metadata": {},
   "outputs": [
    {
     "data": {
      "text/plain": [
       "<module 'matplotlib.pyplot' from '/Users/neilvu/Library/jupyterlab-desktop/jlab_server/lib/python3.12/site-packages/matplotlib/pyplot.py'>"
      ]
     },
     "execution_count": 135,
     "metadata": {},
     "output_type": "execute_result"
    },
    {
     "data": {
      "image/png": "[encoded data removed]",
      "text/plain": [
       "<Figure size 640x480 with 1 Axes>"
      ]
     },
     "metadata": {},
     "output_type": "display_data"
    }
   ],
   "source": [
    "#mathplotlib\n",
    "import matplotlib.pyplot as plt\n",
    "#numpy\n",
    "import numpy as np\n",
    "#pandas\n",
    "import pandas as pd\n",
    "\n",
    "def overall_spending_effect(compare_1, compare_2, compare_3, compare_4, compare_5):\n",
    "    #make a label\n",
    "    differences = [compare_1, compare_2, compare_3, compare_4, compare_5]\n",
    "    #label the differences\n",
    "    labels = ['Total Cost Between $1 to $10', 'Total Cost Between $11 to $20', 'Total Cost Between $21 to $30', 'Total Cost Between $31 to $40', 'Total Cost Between $41 to $50']\n",
    "    #visulize which one has the highest amount of orders per total cost\n",
    "    explode = (0, 0.2, 0, 0, 0)\n",
    "    #make a pie graph - size it larger\n",
    "    plt.pie(differences, labels = labels, autopct = \"%.2f %%\", explode = explode, pctdistance = 0.6) # explode = explode)\n",
    "    #title\n",
    "    plt.title(\"Overall Spending Effect of these Customers Orders\")\n",
    "    #save the file!\n",
    "    plt.savefig(\"/Users/neilvu/Documents/Data Analyst/Projects/Hands-On Projects/Concession Stands (Fictional)/Overall Spending Effect of these Customers Orders.pdf\")\n",
    "    #return the result\n",
    "    return plt\n",
    "\n",
    "\n",
    "#specify the populated values here per total cost...\n",
    "Tier_1 = concession_data.loc[(concession_data['Total Cost'] >= 1) & (concession_data['Total Cost'] < 10)].value_counts().count()\n",
    "Tier_2 = concession_data.loc[(concession_data['Total Cost'] >= 10) & (concession_data['Total Cost'] < 20)].value_counts().count()\n",
    "Tier_3 = concession_data.loc[(concession_data['Total Cost'] >= 20) & (concession_data['Total Cost'] < 30)].value_counts().count()\n",
    "Tier_4 = concession_data.loc[(concession_data['Total Cost'] >= 30) & (concession_data['Total Cost'] < 40)].value_counts().count()\n",
    "Tier_5 = concession_data.loc[(concession_data['Total Cost'] >= 40) & (concession_data['Total Cost'] < 50)].value_counts().count()\n",
    "overall_spending_effect(Tier_1, Tier_2, Tier_3, Tier_4, Tier_5)"
   ]
  },
  {
   "cell_type": "markdown",
   "id": "0a8598ba-0051-47e3-9e41-c9c3f7c3aa69",
   "metadata": {},
   "source": [
    "##### What does this mean from this circle graph.\n",
    "\n",
    "Since concession price cost ranges from $1 to $15.00, the majority who spend the total cost was between $11.00 to $20.00. This is typically the case for those who spent at the concession stands depending on the price of each concession food as well the quantity per customer. Seeing this as a highlight for this overall spending effect, we can tell that it is normal for most of them to pay at that total cost range. This gives an overall idea of who spends the most, the least, and in the between range. \n",
    "\n",
    "The mininum and max range can be found when analyzing this report."
   ]
  },
  {
   "cell_type": "code",
   "execution_count": 147,
   "id": "d2591285-f268-428f-8977-6f9e65af01cd",
   "metadata": {},
   "outputs": [
    {
     "name": "stdout",
     "output_type": "stream",
     "text": [
      "The minimum total cost at the baseball stand was $1.75.\n"
     ]
    }
   ],
   "source": [
    "##minimum\n",
    "minimum = concession_data[\"Total Cost\"].min()\n",
    "print(f\"The minimum total cost at the baseball stand was ${minimum}.\")"
   ]
  },
  {
   "cell_type": "code",
   "execution_count": 146,
   "id": "9b0ebe0b-26cb-4ce5-a5c9-1e261b230318",
   "metadata": {},
   "outputs": [
    {
     "name": "stdout",
     "output_type": "stream",
     "text": [
      "The max total cost at the baseball stand was $47.85.\n"
     ]
    }
   ],
   "source": [
    "##max\n",
    "maxinimum = concession_data[\"Total Cost\"].max()\n",
    "print(f\"The max total cost at the baseball stand was ${maxinimum}.\")"
   ]
  },
  {
   "cell_type": "markdown",
   "id": "ba11076f-da52-48c2-b0bf-2cda398ce341",
   "metadata": {},
   "source": [
    "#### Comments or reactions from this report?? Let me know what you all think about this report analysis."
   ]
  },
  {
   "cell_type": "code",
   "execution_count": null,
   "id": "29ebff60-84f9-453d-8835-61e87c5451a6",
   "metadata": {},
   "outputs": [],
   "source": []
  },
  {
   "cell_type": "code",
   "execution_count": null,
   "id": "2c921091-8982-4fc8-a5c1-f43f8d97e204",
   "metadata": {},
   "outputs": [],
   "source": []
  },
  {
   "cell_type": "code",
   "execution_count": null,
   "id": "e18f700a-fe36-4f4d-a170-568ed37e76cf",
   "metadata": {},
   "outputs": [],
   "source": []
  },
  {
   "cell_type": "code",
   "execution_count": null,
   "id": "b46b670c-c8f6-48de-8f83-2cd6b8430612",
   "metadata": {},
   "outputs": [],
   "source": []
  },
  {
   "cell_type": "code",
   "execution_count": null,
   "id": "243c6ecd-373f-4a69-af48-12d8441ea4d7",
   "metadata": {},
   "outputs": [],
   "source": []
  },
  {
   "cell_type": "code",
   "execution_count": null,
   "id": "a72eab69-f0d5-4af1-ab67-e403e0855835",
   "metadata": {},
   "outputs": [],
   "source": []
  },
  {
   "cell_type": "code",
   "execution_count": null,
   "id": "4c1f26c4-dc7f-42c3-892f-a2cbffc3fbe3",
   "metadata": {},
   "outputs": [],
   "source": []
  },
  {
   "cell_type": "code",
   "execution_count": null,
   "id": "dd1de5d3-03e2-4323-aca8-177fae6af144",
   "metadata": {},
   "outputs": [],
   "source": []
  },
  {
   "cell_type": "code",
   "execution_count": null,
   "id": "7582d1cf-3d4d-4813-b5af-b50315ce8d42",
   "metadata": {},
   "outputs": [],
   "source": []
  },
  {
   "cell_type": "code",
   "execution_count": null,
   "id": "2763c024-3267-453b-9f50-a17ab3e982bf",
   "metadata": {},
   "outputs": [],
   "source": []
  },
  {
   "cell_type": "code",
   "execution_count": null,
   "id": "59c4ae2f-ca8e-4ce8-b988-d95cbb3a3c27",
   "metadata": {},
   "outputs": [],
   "source": []
  },
  {
   "cell_type": "code",
   "execution_count": null,
   "id": "9d73e602-3ed4-4edf-8ff9-93961b14a4fa",
   "metadata": {},
   "outputs": [],
   "source": []
  },
  {
   "cell_type": "code",
   "execution_count": null,
   "id": "6fb474f6-e268-4e86-891b-e9b984b08509",
   "metadata": {},
   "outputs": [],
   "source": []
  },
  {
   "cell_type": "code",
   "execution_count": null,
   "id": "0237a161-47c6-429e-8baa-049f567956d5",
   "metadata": {},
   "outputs": [],
   "source": []
  },
  {
   "cell_type": "code",
   "execution_count": null,
   "id": "abd87fad-d911-44e7-b2c9-2e359aeca3fb",
   "metadata": {},
   "outputs": [],
   "source": []
  },
  {
   "cell_type": "code",
   "execution_count": null,
   "id": "8ede0a65-f415-4aa1-886e-68950947be0d",
   "metadata": {},
   "outputs": [],
   "source": []
  },
  {
   "cell_type": "code",
   "execution_count": null,
   "id": "d994de5a-f167-45a8-91a3-c238ef667212",
   "metadata": {},
   "outputs": [],
   "source": []
  },
  {
   "cell_type": "code",
   "execution_count": null,
   "id": "dfa794f3-beda-4347-895f-9f68eb497133",
   "metadata": {},
   "outputs": [],
   "source": []
  },
  {
   "cell_type": "code",
   "execution_count": null,
   "id": "4656212c-5c20-4dbe-867d-0bd912073665",
   "metadata": {},
   "outputs": [],
   "source": []
  },
  {
   "cell_type": "code",
   "execution_count": null,
   "id": "6465277a-75b6-45af-87f3-09a582966916",
   "metadata": {},
   "outputs": [],
   "source": []
  },
  {
   "cell_type": "code",
   "execution_count": null,
   "id": "16e6387e-c46a-4a90-9cd0-6b79ec64bc31",
   "metadata": {},
   "outputs": [],
   "source": []
  },
  {
   "cell_type": "code",
   "execution_count": null,
   "id": "49e5d0c8-d099-4578-bb27-5a30b24a8c7b",
   "metadata": {},
   "outputs": [],
   "source": []
  },
  {
   "cell_type": "code",
   "execution_count": null,
   "id": "c2bbf935-6406-459b-a2d6-f472eeee9435",
   "metadata": {},
   "outputs": [],
   "source": []
  },
  {
   "cell_type": "code",
   "execution_count": null,
   "id": "3c1d4bb1-23b2-4144-801b-fe3f14ba45fd",
   "metadata": {},
   "outputs": [],
   "source": []
  },
  {
   "cell_type": "code",
   "execution_count": null,
   "id": "08547b07-6bcf-443c-863a-c147760efa79",
   "metadata": {},
   "outputs": [],
   "source": []
  },
  {
   "cell_type": "code",
   "execution_count": null,
   "id": "fd24f9e8-a3be-4e7b-8f5e-d7eb3267e30a",
   "metadata": {},
   "outputs": [],
   "source": []
  },
  {
   "cell_type": "code",
   "execution_count": null,
   "id": "6c094fae-c3ef-4522-a69c-c65e763bca8c",
   "metadata": {},
   "outputs": [],
   "source": []
  },
  {
   "cell_type": "code",
   "execution_count": null,
   "id": "a33838ff-f322-4b25-939f-47ee1e350e7c",
   "metadata": {},
   "outputs": [],
   "source": []
  },
  {
   "cell_type": "code",
   "execution_count": 105,
   "id": "f69e8d4b-627d-4733-b8d1-d41a29c4459d",
   "metadata": {},
   "outputs": [
    {
     "data": {
      "text/plain": [
       "47.85"
      ]
     },
     "execution_count": 105,
     "metadata": {},
     "output_type": "execute_result"
    }
   ],
   "source": [
    "concession_data['Total Cost'].max()"
   ]
  },
  {
   "cell_type": "code",
   "execution_count": 102,
   "id": "5606bd86-b8bd-4dc0-8fa6-ba61171df82a",
   "metadata": {},
   "outputs": [],
   "source": [
    "#scratch note"
   ]
  },
  {
   "cell_type": "markdown",
   "id": "c3e623d6-fceb-415c-b90e-1ad1744ded98",
   "metadata": {},
   "source": [
    "between 1 and 10 dollars"
   ]
  },
  {
   "cell_type": "code",
   "execution_count": 103,
   "id": "4461f9d1-0590-46b1-90e2-69b3c65ef963",
   "metadata": {},
   "outputs": [
    {
     "data": {
      "text/plain": [
       "28"
      ]
     },
     "execution_count": 103,
     "metadata": {},
     "output_type": "execute_result"
    }
   ],
   "source": [
    "concession_data[(concession_data['Total Cost'] > 1) & (concession_data['Total Cost'] < 10)].value_counts().count()"
   ]
  },
  {
   "cell_type": "markdown",
   "id": "e8a108f8-0bd0-4deb-88c5-e6ebebc72292",
   "metadata": {},
   "source": [
    "between 11 to 20 dollars"
   ]
  },
  {
   "cell_type": "code",
   "execution_count": 111,
   "id": "73c659a7-49af-4739-bd53-6078b391102e",
   "metadata": {},
   "outputs": [
    {
     "data": {
      "text/plain": [
       "40"
      ]
     },
     "execution_count": 111,
     "metadata": {},
     "output_type": "execute_result"
    }
   ],
   "source": [
    "concession_data[(concession_data['Total Cost'] >=10) & (concession_data['Total Cost'] < 20)].value_counts().count()"
   ]
  },
  {
   "cell_type": "markdown",
   "id": "73b9e86c-8b95-4e21-b862-8efe5aaeec36",
   "metadata": {},
   "source": [
    "between 21 to 30 dollars"
   ]
  },
  {
   "cell_type": "code",
   "execution_count": 104,
   "id": "b5175c98-af03-490e-b73b-95df41d687e7",
   "metadata": {},
   "outputs": [
    {
     "data": {
      "text/plain": [
       "13"
      ]
     },
     "execution_count": 104,
     "metadata": {},
     "output_type": "execute_result"
    }
   ],
   "source": [
    "concession_data[(concession_data['Total Cost'] > 21) & (concession_data['Total Cost'] < 30)].value_counts().count()"
   ]
  },
  {
   "cell_type": "markdown",
   "id": "ed0111a2-6028-459e-975b-c3c00f58dac9",
   "metadata": {},
   "source": [
    "between 30 to 40 dollars"
   ]
  },
  {
   "cell_type": "code",
   "execution_count": 109,
   "id": "95c313d8-e4cd-405f-9739-cc23799e5568",
   "metadata": {},
   "outputs": [
    {
     "data": {
      "text/plain": [
       "7"
      ]
     },
     "execution_count": 109,
     "metadata": {},
     "output_type": "execute_result"
    }
   ],
   "source": [
    "concession_data[(concession_data['Total Cost'] > 30) & (concession_data['Total Cost'] < 40)].value_counts().count()"
   ]
  },
  {
   "cell_type": "markdown",
   "id": "19ebe7de-e5e8-439b-9f24-25d4b7ce73e0",
   "metadata": {},
   "source": [
    "between 40 to 50 dollars"
   ]
  },
  {
   "cell_type": "code",
   "execution_count": 108,
   "id": "3958dd7b-fb4c-4310-9342-935d13d482e1",
   "metadata": {},
   "outputs": [
    {
     "data": {
      "text/plain": [
       "4"
      ]
     },
     "execution_count": 108,
     "metadata": {},
     "output_type": "execute_result"
    }
   ],
   "source": [
    "concession_data[(concession_data['Total Cost'] > 40) & (concession_data['Total Cost'] < 50)].value_counts().count()"
   ]
  },
  {
   "cell_type": "code",
   "execution_count": null,
   "id": "7952f5e2-331a-4598-bfa4-7f178c4e3bad",
   "metadata": {},
   "outputs": [],
   "source": []
  },
  {
   "cell_type": "code",
   "execution_count": 110,
   "id": "e4c0f6e0-4360-4c06-b939-4b70498b815d",
   "metadata": {},
   "outputs": [
    {
     "data": {
      "text/plain": [
       "28"
      ]
     },
     "execution_count": 110,
     "metadata": {},
     "output_type": "execute_result"
    }
   ],
   "source": [
    "concession_data.loc[(concession_data['Total Cost'] > 1) & (concession_data['Total Cost'] < 10)].value_counts().count()"
   ]
  },
  {
   "cell_type": "code",
   "execution_count": null,
   "id": "16455dae-381f-4839-8932-dededc98e11f",
   "metadata": {},
   "outputs": [],
   "source": []
  },
  {
   "cell_type": "code",
   "execution_count": null,
   "id": "3701265b-21e9-41bf-a32b-617f0a9b9ac4",
   "metadata": {},
   "outputs": [],
   "source": []
  },
  {
   "cell_type": "code",
   "execution_count": null,
   "id": "de78d808-008c-4417-8a47-a75aeb14816a",
   "metadata": {},
   "outputs": [],
   "source": []
  },
  {
   "cell_type": "code",
   "execution_count": null,
   "id": "2664f874-da8e-40c3-a6a2-0cd9849abad7",
   "metadata": {},
   "outputs": [],
   "source": []
  },
  {
   "cell_type": "markdown",
   "id": "89f74220-5f0a-4008-8f3c-044585e15c0e",
   "metadata": {},
   "source": [
    "### Debug Errors"
   ]
  },
  {
   "cell_type": "markdown",
   "id": "db2922da-0eb2-4a46-9a1f-a9115b7681df",
   "metadata": {},
   "source": [
    "1). Make sure that you need to include parathesis, python itself confuses what you wrote in the (____) as arguments, it interprets incorrect with one assumed as a num, the other as a boolean which you want to find both as nums directly."
   ]
  },
  {
   "cell_type": "code",
   "execution_count": 99,
   "id": "d888a7f4-1ce4-4586-ba63-2b707ea6430d",
   "metadata": {},
   "outputs": [
    {
     "ename": "TypeError",
     "evalue": "Cannot perform 'rand_' with a dtyped [float64] array and scalar of type [bool]",
     "output_type": "error",
     "traceback": [
      "\u001b[0;31m---------------------------------------------------------------------------\u001b[0m",
      "\u001b[0;31mTypeError\u001b[0m                                 Traceback (most recent call last)",
      "File \u001b[0;32m~/Library/jupyterlab-desktop/jlab_server/lib/python3.12/site-packages/pandas/core/ops/array_ops.py:362\u001b[0m, in \u001b[0;36mna_logical_op\u001b[0;34m(x, y, op)\u001b[0m\n\u001b[1;32m    353\u001b[0m \u001b[38;5;28;01mtry\u001b[39;00m:\n\u001b[1;32m    354\u001b[0m     \u001b[38;5;66;03m# For exposition, write:\u001b[39;00m\n\u001b[1;32m    355\u001b[0m     \u001b[38;5;66;03m#  yarr = isinstance(y, np.ndarray)\u001b[39;00m\n\u001b[0;32m   (...)\u001b[0m\n\u001b[1;32m    360\u001b[0m     \u001b[38;5;66;03m# Then Cases where this goes through without raising include:\u001b[39;00m\n\u001b[1;32m    361\u001b[0m     \u001b[38;5;66;03m#  (xint or xbool) and (yint or bool)\u001b[39;00m\n\u001b[0;32m--> 362\u001b[0m     result \u001b[38;5;241m=\u001b[39m \u001b[43mop\u001b[49m\u001b[43m(\u001b[49m\u001b[43mx\u001b[49m\u001b[43m,\u001b[49m\u001b[43m \u001b[49m\u001b[43my\u001b[49m\u001b[43m)\u001b[49m\n\u001b[1;32m    363\u001b[0m \u001b[38;5;28;01mexcept\u001b[39;00m \u001b[38;5;167;01mTypeError\u001b[39;00m:\n",
      "File \u001b[0;32m~/Library/jupyterlab-desktop/jlab_server/lib/python3.12/site-packages/pandas/core/roperator.py:54\u001b[0m, in \u001b[0;36mrand_\u001b[0;34m(left, right)\u001b[0m\n\u001b[1;32m     53\u001b[0m \u001b[38;5;28;01mdef\u001b[39;00m \u001b[38;5;21mrand_\u001b[39m(left, right):\n\u001b[0;32m---> 54\u001b[0m     \u001b[38;5;28;01mreturn\u001b[39;00m \u001b[43moperator\u001b[49m\u001b[38;5;241;43m.\u001b[39;49m\u001b[43mand_\u001b[49m\u001b[43m(\u001b[49m\u001b[43mright\u001b[49m\u001b[43m,\u001b[49m\u001b[43m \u001b[49m\u001b[43mleft\u001b[49m\u001b[43m)\u001b[49m\n",
      "\u001b[0;31mTypeError\u001b[0m: ufunc 'bitwise_and' not supported for the input types, and the inputs could not be safely coerced to any supported types according to the casting rule ''safe''",
      "\nDuring handling of the above exception, another exception occurred:\n",
      "\u001b[0;31mValueError\u001b[0m                                Traceback (most recent call last)",
      "File \u001b[0;32m~/Library/jupyterlab-desktop/jlab_server/lib/python3.12/site-packages/pandas/core/ops/array_ops.py:376\u001b[0m, in \u001b[0;36mna_logical_op\u001b[0;34m(x, y, op)\u001b[0m\n\u001b[1;32m    375\u001b[0m \u001b[38;5;28;01mtry\u001b[39;00m:\n\u001b[0;32m--> 376\u001b[0m     result \u001b[38;5;241m=\u001b[39m \u001b[43mlibops\u001b[49m\u001b[38;5;241;43m.\u001b[39;49m\u001b[43mscalar_binop\u001b[49m\u001b[43m(\u001b[49m\u001b[43mx\u001b[49m\u001b[43m,\u001b[49m\u001b[43m \u001b[49m\u001b[43my\u001b[49m\u001b[43m,\u001b[49m\u001b[43m \u001b[49m\u001b[43mop\u001b[49m\u001b[43m)\u001b[49m\n\u001b[1;32m    377\u001b[0m \u001b[38;5;28;01mexcept\u001b[39;00m (\n\u001b[1;32m    378\u001b[0m     \u001b[38;5;167;01mTypeError\u001b[39;00m,\n\u001b[1;32m    379\u001b[0m     \u001b[38;5;167;01mValueError\u001b[39;00m,\n\u001b[0;32m   (...)\u001b[0m\n\u001b[1;32m    382\u001b[0m     \u001b[38;5;167;01mNotImplementedError\u001b[39;00m,\n\u001b[1;32m    383\u001b[0m ) \u001b[38;5;28;01mas\u001b[39;00m err:\n",
      "File \u001b[0;32mops.pyx:180\u001b[0m, in \u001b[0;36mpandas._libs.ops.scalar_binop\u001b[0;34m()\u001b[0m\n",
      "\u001b[0;31mValueError\u001b[0m: Buffer dtype mismatch, expected 'Python object' but got 'double'",
      "\nThe above exception was the direct cause of the following exception:\n",
      "\u001b[0;31mTypeError\u001b[0m                                 Traceback (most recent call last)",
      "Cell \u001b[0;32mIn[99], line 1\u001b[0m\n\u001b[0;32m----> 1\u001b[0m concession_data[concession_data[\u001b[38;5;124m'\u001b[39m\u001b[38;5;124mTotal Cost\u001b[39m\u001b[38;5;124m'\u001b[39m] \u001b[38;5;241m>\u001b[39m \u001b[38;5;241;43m10\u001b[39;49m\u001b[43m \u001b[49m\u001b[38;5;241;43m&\u001b[39;49m\u001b[43m \u001b[49m\u001b[43mconcession_data\u001b[49m\u001b[43m[\u001b[49m\u001b[38;5;124;43m'\u001b[39;49m\u001b[38;5;124;43mTotal Cost\u001b[39;49m\u001b[38;5;124;43m'\u001b[39;49m\u001b[43m]\u001b[49m \u001b[38;5;241m<\u001b[39m \u001b[38;5;241m20\u001b[39m]\u001b[38;5;241m.\u001b[39mvalue_counts()\u001b[38;5;241m.\u001b[39mcount()\n",
      "File \u001b[0;32m~/Library/jupyterlab-desktop/jlab_server/lib/python3.12/site-packages/pandas/core/ops/common.py:76\u001b[0m, in \u001b[0;36m_unpack_zerodim_and_defer.<locals>.new_method\u001b[0;34m(self, other)\u001b[0m\n\u001b[1;32m     72\u001b[0m             \u001b[38;5;28;01mreturn\u001b[39;00m \u001b[38;5;28mNotImplemented\u001b[39m\n\u001b[1;32m     74\u001b[0m other \u001b[38;5;241m=\u001b[39m item_from_zerodim(other)\n\u001b[0;32m---> 76\u001b[0m \u001b[38;5;28;01mreturn\u001b[39;00m \u001b[43mmethod\u001b[49m\u001b[43m(\u001b[49m\u001b[38;5;28;43mself\u001b[39;49m\u001b[43m,\u001b[49m\u001b[43m \u001b[49m\u001b[43mother\u001b[49m\u001b[43m)\u001b[49m\n",
      "File \u001b[0;32m~/Library/jupyterlab-desktop/jlab_server/lib/python3.12/site-packages/pandas/core/arraylike.py:74\u001b[0m, in \u001b[0;36mOpsMixin.__rand__\u001b[0;34m(self, other)\u001b[0m\n\u001b[1;32m     72\u001b[0m \u001b[38;5;129m@unpack_zerodim_and_defer\u001b[39m(\u001b[38;5;124m\"\u001b[39m\u001b[38;5;124m__rand__\u001b[39m\u001b[38;5;124m\"\u001b[39m)\n\u001b[1;32m     73\u001b[0m \u001b[38;5;28;01mdef\u001b[39;00m \u001b[38;5;21m__rand__\u001b[39m(\u001b[38;5;28mself\u001b[39m, other):\n\u001b[0;32m---> 74\u001b[0m     \u001b[38;5;28;01mreturn\u001b[39;00m \u001b[38;5;28;43mself\u001b[39;49m\u001b[38;5;241;43m.\u001b[39;49m\u001b[43m_logical_method\u001b[49m\u001b[43m(\u001b[49m\u001b[43mother\u001b[49m\u001b[43m,\u001b[49m\u001b[43m \u001b[49m\u001b[43mroperator\u001b[49m\u001b[38;5;241;43m.\u001b[39;49m\u001b[43mrand_\u001b[49m\u001b[43m)\u001b[49m\n",
      "File \u001b[0;32m~/Library/jupyterlab-desktop/jlab_server/lib/python3.12/site-packages/pandas/core/series.py:6130\u001b[0m, in \u001b[0;36mSeries._logical_method\u001b[0;34m(self, other, op)\u001b[0m\n\u001b[1;32m   6127\u001b[0m lvalues \u001b[38;5;241m=\u001b[39m \u001b[38;5;28mself\u001b[39m\u001b[38;5;241m.\u001b[39m_values\n\u001b[1;32m   6128\u001b[0m rvalues \u001b[38;5;241m=\u001b[39m extract_array(other, extract_numpy\u001b[38;5;241m=\u001b[39m\u001b[38;5;28;01mTrue\u001b[39;00m, extract_range\u001b[38;5;241m=\u001b[39m\u001b[38;5;28;01mTrue\u001b[39;00m)\n\u001b[0;32m-> 6130\u001b[0m res_values \u001b[38;5;241m=\u001b[39m \u001b[43mops\u001b[49m\u001b[38;5;241;43m.\u001b[39;49m\u001b[43mlogical_op\u001b[49m\u001b[43m(\u001b[49m\u001b[43mlvalues\u001b[49m\u001b[43m,\u001b[49m\u001b[43m \u001b[49m\u001b[43mrvalues\u001b[49m\u001b[43m,\u001b[49m\u001b[43m \u001b[49m\u001b[43mop\u001b[49m\u001b[43m)\u001b[49m\n\u001b[1;32m   6131\u001b[0m \u001b[38;5;28;01mreturn\u001b[39;00m \u001b[38;5;28mself\u001b[39m\u001b[38;5;241m.\u001b[39m_construct_result(res_values, name\u001b[38;5;241m=\u001b[39mres_name)\n",
      "File \u001b[0;32m~/Library/jupyterlab-desktop/jlab_server/lib/python3.12/site-packages/pandas/core/ops/array_ops.py:454\u001b[0m, in \u001b[0;36mlogical_op\u001b[0;34m(left, right, op)\u001b[0m\n\u001b[1;32m    450\u001b[0m \u001b[38;5;28;01melse\u001b[39;00m:\n\u001b[1;32m    451\u001b[0m     \u001b[38;5;66;03m# i.e. scalar\u001b[39;00m\n\u001b[1;32m    452\u001b[0m     is_other_int_dtype \u001b[38;5;241m=\u001b[39m lib\u001b[38;5;241m.\u001b[39mis_integer(rvalues)\n\u001b[0;32m--> 454\u001b[0m res_values \u001b[38;5;241m=\u001b[39m \u001b[43mna_logical_op\u001b[49m\u001b[43m(\u001b[49m\u001b[43mlvalues\u001b[49m\u001b[43m,\u001b[49m\u001b[43m \u001b[49m\u001b[43mrvalues\u001b[49m\u001b[43m,\u001b[49m\u001b[43m \u001b[49m\u001b[43mop\u001b[49m\u001b[43m)\u001b[49m\n\u001b[1;32m    456\u001b[0m \u001b[38;5;66;03m# For int vs int `^`, `|`, `&` are bitwise operators and return\u001b[39;00m\n\u001b[1;32m    457\u001b[0m \u001b[38;5;66;03m#   integer dtypes.  Otherwise these are boolean ops\u001b[39;00m\n\u001b[1;32m    458\u001b[0m \u001b[38;5;28;01mif\u001b[39;00m \u001b[38;5;129;01mnot\u001b[39;00m (left\u001b[38;5;241m.\u001b[39mdtype\u001b[38;5;241m.\u001b[39mkind \u001b[38;5;129;01min\u001b[39;00m \u001b[38;5;124m\"\u001b[39m\u001b[38;5;124miu\u001b[39m\u001b[38;5;124m\"\u001b[39m \u001b[38;5;129;01mand\u001b[39;00m is_other_int_dtype):\n",
      "File \u001b[0;32m~/Library/jupyterlab-desktop/jlab_server/lib/python3.12/site-packages/pandas/core/ops/array_ops.py:385\u001b[0m, in \u001b[0;36mna_logical_op\u001b[0;34m(x, y, op)\u001b[0m\n\u001b[1;32m    377\u001b[0m         \u001b[38;5;28;01mexcept\u001b[39;00m (\n\u001b[1;32m    378\u001b[0m             \u001b[38;5;167;01mTypeError\u001b[39;00m,\n\u001b[1;32m    379\u001b[0m             \u001b[38;5;167;01mValueError\u001b[39;00m,\n\u001b[0;32m   (...)\u001b[0m\n\u001b[1;32m    382\u001b[0m             \u001b[38;5;167;01mNotImplementedError\u001b[39;00m,\n\u001b[1;32m    383\u001b[0m         ) \u001b[38;5;28;01mas\u001b[39;00m err:\n\u001b[1;32m    384\u001b[0m             typ \u001b[38;5;241m=\u001b[39m \u001b[38;5;28mtype\u001b[39m(y)\u001b[38;5;241m.\u001b[39m\u001b[38;5;18m__name__\u001b[39m\n\u001b[0;32m--> 385\u001b[0m             \u001b[38;5;28;01mraise\u001b[39;00m \u001b[38;5;167;01mTypeError\u001b[39;00m(\n\u001b[1;32m    386\u001b[0m                 \u001b[38;5;124mf\u001b[39m\u001b[38;5;124m\"\u001b[39m\u001b[38;5;124mCannot perform \u001b[39m\u001b[38;5;124m'\u001b[39m\u001b[38;5;132;01m{\u001b[39;00mop\u001b[38;5;241m.\u001b[39m\u001b[38;5;18m__name__\u001b[39m\u001b[38;5;132;01m}\u001b[39;00m\u001b[38;5;124m'\u001b[39m\u001b[38;5;124m with a dtyped [\u001b[39m\u001b[38;5;132;01m{\u001b[39;00mx\u001b[38;5;241m.\u001b[39mdtype\u001b[38;5;132;01m}\u001b[39;00m\u001b[38;5;124m] array \u001b[39m\u001b[38;5;124m\"\u001b[39m\n\u001b[1;32m    387\u001b[0m                 \u001b[38;5;124mf\u001b[39m\u001b[38;5;124m\"\u001b[39m\u001b[38;5;124mand scalar of type [\u001b[39m\u001b[38;5;132;01m{\u001b[39;00mtyp\u001b[38;5;132;01m}\u001b[39;00m\u001b[38;5;124m]\u001b[39m\u001b[38;5;124m\"\u001b[39m\n\u001b[1;32m    388\u001b[0m             ) \u001b[38;5;28;01mfrom\u001b[39;00m \u001b[38;5;21;01merr\u001b[39;00m\n\u001b[1;32m    390\u001b[0m \u001b[38;5;28;01mreturn\u001b[39;00m result\u001b[38;5;241m.\u001b[39mreshape(x\u001b[38;5;241m.\u001b[39mshape)\n",
      "\u001b[0;31mTypeError\u001b[0m: Cannot perform 'rand_' with a dtyped [float64] array and scalar of type [bool]"
     ]
    }
   ],
   "source": [
    "concession_data[concession_data['Total Cost'] > 10 & concession_data['Total Cost'] < 20].value_counts().count()"
   ]
  },
  {
   "cell_type": "code",
   "execution_count": null,
   "id": "7d5533e2-5c8b-49ac-a521-c0c1653b3cc1",
   "metadata": {},
   "outputs": [],
   "source": []
  },
  {
   "cell_type": "markdown",
   "id": "16963dbb-c3b0-4918-9f49-737018033616",
   "metadata": {},
   "source": [
    "2). Use value_counts() and count() to implement specifically on the args itself, instead of the usual count []"
   ]
  },
  {
   "cell_type": "code",
   "execution_count": 100,
   "id": "919ed180-79cc-4604-ae82-cf085bb1c4fa",
   "metadata": {},
   "outputs": [
    {
     "name": "stderr",
     "output_type": "stream",
     "text": [
      "/var/folders/8v/2t7q220516nf_3hnkh0mq_vh0000gn/T/ipykernel_1534/846886447.py:1: FutureWarning: Series.__getitem__ treating keys as positions is deprecated. In a future version, integer keys will always be treated as labels (consistent with DataFrame behavior). To access a value by position, use `ser.iloc[pos]`\n",
      "  concession_data[concession_data['Total Cost'] > 0].count()[0]\n"
     ]
    },
    {
     "data": {
      "text/plain": [
       "100"
      ]
     },
     "execution_count": 100,
     "metadata": {},
     "output_type": "execute_result"
    }
   ],
   "source": [
    "concession_data[concession_data['Total Cost'] > 0].count()[0]"
   ]
  },
  {
   "cell_type": "code",
   "execution_count": 101,
   "id": "1342f95d-9e4a-4a58-a2e6-78e8296189e4",
   "metadata": {},
   "outputs": [
    {
     "data": {
      "text/plain": [
       "100"
      ]
     },
     "execution_count": 101,
     "metadata": {},
     "output_type": "execute_result"
    }
   ],
   "source": [
    "concession_data[concession_data['Total Cost'] > 0].value_counts().count()"
   ]
  },
  {
   "cell_type": "code",
   "execution_count": null,
   "id": "7e64651c-f328-494b-ad17-5eb659319238",
   "metadata": {},
   "outputs": [],
   "source": []
  },
  {
   "cell_type": "markdown",
   "id": "6c15b813-2d1d-4627-8353-f3e05ecf6b5a",
   "metadata": {},
   "source": [
    "3). "
   ]
  },
  {
   "cell_type": "code",
   "execution_count": 125,
   "id": "31ef3869-920b-4ccc-8569-f54b1dbdb1af",
   "metadata": {},
   "outputs": [
    {
     "ename": "TypeError",
     "evalue": "object of type 'bool' has no len()",
     "output_type": "error",
     "traceback": [
      "\u001b[0;31m---------------------------------------------------------------------------\u001b[0m",
      "\u001b[0;31mTypeError\u001b[0m                                 Traceback (most recent call last)",
      "Cell \u001b[0;32mIn[125], line 28\u001b[0m\n\u001b[1;32m     26\u001b[0m Tier_4 \u001b[38;5;241m=\u001b[39m concession_data\u001b[38;5;241m.\u001b[39mloc[(concession_data[\u001b[38;5;124m'\u001b[39m\u001b[38;5;124mTotal Cost\u001b[39m\u001b[38;5;124m'\u001b[39m] \u001b[38;5;241m>\u001b[39m\u001b[38;5;241m=\u001b[39m \u001b[38;5;241m30\u001b[39m) \u001b[38;5;241m&\u001b[39m (concession_data[\u001b[38;5;124m'\u001b[39m\u001b[38;5;124mTotal Cost\u001b[39m\u001b[38;5;124m'\u001b[39m] \u001b[38;5;241m<\u001b[39m \u001b[38;5;241m40\u001b[39m)]\u001b[38;5;241m.\u001b[39mvalue_counts()\u001b[38;5;241m.\u001b[39mcount()\n\u001b[1;32m     27\u001b[0m Tier_5 \u001b[38;5;241m=\u001b[39m concession_data\u001b[38;5;241m.\u001b[39mloc[(concession_data[\u001b[38;5;124m'\u001b[39m\u001b[38;5;124mTotal Cost\u001b[39m\u001b[38;5;124m'\u001b[39m] \u001b[38;5;241m>\u001b[39m\u001b[38;5;241m=\u001b[39m \u001b[38;5;241m40\u001b[39m) \u001b[38;5;241m&\u001b[39m (concession_data[\u001b[38;5;124m'\u001b[39m\u001b[38;5;124mTotal Cost\u001b[39m\u001b[38;5;124m'\u001b[39m] \u001b[38;5;241m<\u001b[39m \u001b[38;5;241m50\u001b[39m)]\u001b[38;5;241m.\u001b[39mvalue_counts()\u001b[38;5;241m.\u001b[39mcount()\n\u001b[0;32m---> 28\u001b[0m \u001b[43moverall_spending_effect\u001b[49m\u001b[43m(\u001b[49m\u001b[43mTier_1\u001b[49m\u001b[43m,\u001b[49m\u001b[43m \u001b[49m\u001b[43mTier_2\u001b[49m\u001b[43m,\u001b[49m\u001b[43m \u001b[49m\u001b[43mTier_3\u001b[49m\u001b[43m,\u001b[49m\u001b[43m \u001b[49m\u001b[43mTier_4\u001b[49m\u001b[43m,\u001b[49m\u001b[43m \u001b[49m\u001b[43mTier_5\u001b[49m\u001b[43m)\u001b[49m\n",
      "Cell \u001b[0;32mIn[125], line 16\u001b[0m, in \u001b[0;36moverall_spending_effect\u001b[0;34m(compare_1, compare_2, compare_3, compare_4, compare_5)\u001b[0m\n\u001b[1;32m     12\u001b[0m labels \u001b[38;5;241m=\u001b[39m [\u001b[38;5;124m'\u001b[39m\u001b[38;5;124mTotal Cost Between $1 to $10\u001b[39m\u001b[38;5;124m'\u001b[39m, \u001b[38;5;124m'\u001b[39m\u001b[38;5;124mTotal Cost Between $11 to $20\u001b[39m\u001b[38;5;124m'\u001b[39m, \u001b[38;5;124m'\u001b[39m\u001b[38;5;124mTotal Cost Between $21 to $30\u001b[39m\u001b[38;5;124m'\u001b[39m, \u001b[38;5;124m'\u001b[39m\u001b[38;5;124mTotal Cost Between $31 to $40\u001b[39m\u001b[38;5;124m'\u001b[39m, \u001b[38;5;124m'\u001b[39m\u001b[38;5;124mTotal Cost Between $41 to $50\u001b[39m\u001b[38;5;124m'\u001b[39m]\n\u001b[1;32m     13\u001b[0m \u001b[38;5;66;03m#visulize which one has the highest amount of orders per total cost\u001b[39;00m\n\u001b[1;32m     14\u001b[0m \u001b[38;5;66;03m#explode = (0, 0.2, 0, 0, 0)\u001b[39;00m\n\u001b[1;32m     15\u001b[0m \u001b[38;5;66;03m#make a pie graph\u001b[39;00m\n\u001b[0;32m---> 16\u001b[0m \u001b[43mplt\u001b[49m\u001b[38;5;241;43m.\u001b[39;49m\u001b[43mpie\u001b[49m\u001b[43m(\u001b[49m\u001b[43mdifferences\u001b[49m\u001b[43m,\u001b[49m\u001b[43m \u001b[49m\u001b[43mlabels\u001b[49m\u001b[43m \u001b[49m\u001b[38;5;241;43m==\u001b[39;49m\u001b[43m \u001b[49m\u001b[43mlabels\u001b[49m\u001b[43m,\u001b[49m\u001b[43m \u001b[49m\u001b[43mautopct\u001b[49m\u001b[43m \u001b[49m\u001b[38;5;241;43m=\u001b[39;49m\u001b[43m \u001b[49m\u001b[38;5;124;43m\"\u001b[39;49m\u001b[38;5;132;43;01m%.2f\u001b[39;49;00m\u001b[38;5;124;43m \u001b[39;49m\u001b[38;5;132;43;01m%%\u001b[39;49;00m\u001b[38;5;124;43m\"\u001b[39;49m\u001b[43m,\u001b[49m\u001b[43m \u001b[49m\u001b[43mpctdistance\u001b[49m\u001b[43m \u001b[49m\u001b[38;5;241;43m=\u001b[39;49m\u001b[43m \u001b[49m\u001b[38;5;241;43m0\u001b[39;49m\u001b[43m)\u001b[49m \u001b[38;5;66;03m# explode = explode)\u001b[39;00m\n\u001b[1;32m     17\u001b[0m \u001b[38;5;66;03m#title\u001b[39;00m\n\u001b[1;32m     18\u001b[0m plt\u001b[38;5;241m.\u001b[39mtitle(\u001b[38;5;124m\"\u001b[39m\u001b[38;5;124mOverall Spending Effect of these Customers Orders\u001b[39m\u001b[38;5;124m\"\u001b[39m)\n",
      "File \u001b[0;32m~/Library/jupyterlab-desktop/jlab_server/lib/python3.12/site-packages/matplotlib/pyplot.py:3558\u001b[0m, in \u001b[0;36mpie\u001b[0;34m(x, explode, labels, colors, autopct, pctdistance, shadow, labeldistance, startangle, radius, counterclock, wedgeprops, textprops, center, frame, rotatelabels, normalize, hatch, data)\u001b[0m\n\u001b[1;32m   3535\u001b[0m \u001b[38;5;129m@_copy_docstring_and_deprecators\u001b[39m(Axes\u001b[38;5;241m.\u001b[39mpie)\n\u001b[1;32m   3536\u001b[0m \u001b[38;5;28;01mdef\u001b[39;00m \u001b[38;5;21mpie\u001b[39m(\n\u001b[1;32m   3537\u001b[0m     x: ArrayLike,\n\u001b[0;32m   (...)\u001b[0m\n\u001b[1;32m   3556\u001b[0m     data\u001b[38;5;241m=\u001b[39m\u001b[38;5;28;01mNone\u001b[39;00m,\n\u001b[1;32m   3557\u001b[0m ) \u001b[38;5;241m-\u001b[39m\u001b[38;5;241m>\u001b[39m \u001b[38;5;28mtuple\u001b[39m[\u001b[38;5;28mlist\u001b[39m[Wedge], \u001b[38;5;28mlist\u001b[39m[Text]] \u001b[38;5;241m|\u001b[39m \u001b[38;5;28mtuple\u001b[39m[\u001b[38;5;28mlist\u001b[39m[Wedge], \u001b[38;5;28mlist\u001b[39m[Text], \u001b[38;5;28mlist\u001b[39m[Text]]:\n\u001b[0;32m-> 3558\u001b[0m     \u001b[38;5;28;01mreturn\u001b[39;00m \u001b[43mgca\u001b[49m\u001b[43m(\u001b[49m\u001b[43m)\u001b[49m\u001b[38;5;241;43m.\u001b[39;49m\u001b[43mpie\u001b[49m\u001b[43m(\u001b[49m\n\u001b[1;32m   3559\u001b[0m \u001b[43m        \u001b[49m\u001b[43mx\u001b[49m\u001b[43m,\u001b[49m\n\u001b[1;32m   3560\u001b[0m \u001b[43m        \u001b[49m\u001b[43mexplode\u001b[49m\u001b[38;5;241;43m=\u001b[39;49m\u001b[43mexplode\u001b[49m\u001b[43m,\u001b[49m\n\u001b[1;32m   3561\u001b[0m \u001b[43m        \u001b[49m\u001b[43mlabels\u001b[49m\u001b[38;5;241;43m=\u001b[39;49m\u001b[43mlabels\u001b[49m\u001b[43m,\u001b[49m\n\u001b[1;32m   3562\u001b[0m \u001b[43m        \u001b[49m\u001b[43mcolors\u001b[49m\u001b[38;5;241;43m=\u001b[39;49m\u001b[43mcolors\u001b[49m\u001b[43m,\u001b[49m\n\u001b[1;32m   3563\u001b[0m \u001b[43m        \u001b[49m\u001b[43mautopct\u001b[49m\u001b[38;5;241;43m=\u001b[39;49m\u001b[43mautopct\u001b[49m\u001b[43m,\u001b[49m\n\u001b[1;32m   3564\u001b[0m \u001b[43m        \u001b[49m\u001b[43mpctdistance\u001b[49m\u001b[38;5;241;43m=\u001b[39;49m\u001b[43mpctdistance\u001b[49m\u001b[43m,\u001b[49m\n\u001b[1;32m   3565\u001b[0m \u001b[43m        \u001b[49m\u001b[43mshadow\u001b[49m\u001b[38;5;241;43m=\u001b[39;49m\u001b[43mshadow\u001b[49m\u001b[43m,\u001b[49m\n\u001b[1;32m   3566\u001b[0m \u001b[43m        \u001b[49m\u001b[43mlabeldistance\u001b[49m\u001b[38;5;241;43m=\u001b[39;49m\u001b[43mlabeldistance\u001b[49m\u001b[43m,\u001b[49m\n\u001b[1;32m   3567\u001b[0m \u001b[43m        \u001b[49m\u001b[43mstartangle\u001b[49m\u001b[38;5;241;43m=\u001b[39;49m\u001b[43mstartangle\u001b[49m\u001b[43m,\u001b[49m\n\u001b[1;32m   3568\u001b[0m \u001b[43m        \u001b[49m\u001b[43mradius\u001b[49m\u001b[38;5;241;43m=\u001b[39;49m\u001b[43mradius\u001b[49m\u001b[43m,\u001b[49m\n\u001b[1;32m   3569\u001b[0m \u001b[43m        \u001b[49m\u001b[43mcounterclock\u001b[49m\u001b[38;5;241;43m=\u001b[39;49m\u001b[43mcounterclock\u001b[49m\u001b[43m,\u001b[49m\n\u001b[1;32m   3570\u001b[0m \u001b[43m        \u001b[49m\u001b[43mwedgeprops\u001b[49m\u001b[38;5;241;43m=\u001b[39;49m\u001b[43mwedgeprops\u001b[49m\u001b[43m,\u001b[49m\n\u001b[1;32m   3571\u001b[0m \u001b[43m        \u001b[49m\u001b[43mtextprops\u001b[49m\u001b[38;5;241;43m=\u001b[39;49m\u001b[43mtextprops\u001b[49m\u001b[43m,\u001b[49m\n\u001b[1;32m   3572\u001b[0m \u001b[43m        \u001b[49m\u001b[43mcenter\u001b[49m\u001b[38;5;241;43m=\u001b[39;49m\u001b[43mcenter\u001b[49m\u001b[43m,\u001b[49m\n\u001b[1;32m   3573\u001b[0m \u001b[43m        \u001b[49m\u001b[43mframe\u001b[49m\u001b[38;5;241;43m=\u001b[39;49m\u001b[43mframe\u001b[49m\u001b[43m,\u001b[49m\n\u001b[1;32m   3574\u001b[0m \u001b[43m        \u001b[49m\u001b[43mrotatelabels\u001b[49m\u001b[38;5;241;43m=\u001b[39;49m\u001b[43mrotatelabels\u001b[49m\u001b[43m,\u001b[49m\n\u001b[1;32m   3575\u001b[0m \u001b[43m        \u001b[49m\u001b[43mnormalize\u001b[49m\u001b[38;5;241;43m=\u001b[39;49m\u001b[43mnormalize\u001b[49m\u001b[43m,\u001b[49m\n\u001b[1;32m   3576\u001b[0m \u001b[43m        \u001b[49m\u001b[43mhatch\u001b[49m\u001b[38;5;241;43m=\u001b[39;49m\u001b[43mhatch\u001b[49m\u001b[43m,\u001b[49m\n\u001b[1;32m   3577\u001b[0m \u001b[43m        \u001b[49m\u001b[38;5;241;43m*\u001b[39;49m\u001b[38;5;241;43m*\u001b[39;49m\u001b[43m(\u001b[49m\u001b[43m{\u001b[49m\u001b[38;5;124;43m\"\u001b[39;49m\u001b[38;5;124;43mdata\u001b[39;49m\u001b[38;5;124;43m\"\u001b[39;49m\u001b[43m:\u001b[49m\u001b[43m \u001b[49m\u001b[43mdata\u001b[49m\u001b[43m}\u001b[49m\u001b[43m \u001b[49m\u001b[38;5;28;43;01mif\u001b[39;49;00m\u001b[43m \u001b[49m\u001b[43mdata\u001b[49m\u001b[43m \u001b[49m\u001b[38;5;129;43;01mis\u001b[39;49;00m\u001b[43m \u001b[49m\u001b[38;5;129;43;01mnot\u001b[39;49;00m\u001b[43m \u001b[49m\u001b[38;5;28;43;01mNone\u001b[39;49;00m\u001b[43m \u001b[49m\u001b[38;5;28;43;01melse\u001b[39;49;00m\u001b[43m \u001b[49m\u001b[43m{\u001b[49m\u001b[43m}\u001b[49m\u001b[43m)\u001b[49m\u001b[43m,\u001b[49m\n\u001b[1;32m   3578\u001b[0m \u001b[43m    \u001b[49m\u001b[43m)\u001b[49m\n",
      "File \u001b[0;32m~/Library/jupyterlab-desktop/jlab_server/lib/python3.12/site-packages/matplotlib/__init__.py:1465\u001b[0m, in \u001b[0;36m_preprocess_data.<locals>.inner\u001b[0;34m(ax, data, *args, **kwargs)\u001b[0m\n\u001b[1;32m   1462\u001b[0m \u001b[38;5;129m@functools\u001b[39m\u001b[38;5;241m.\u001b[39mwraps(func)\n\u001b[1;32m   1463\u001b[0m \u001b[38;5;28;01mdef\u001b[39;00m \u001b[38;5;21minner\u001b[39m(ax, \u001b[38;5;241m*\u001b[39margs, data\u001b[38;5;241m=\u001b[39m\u001b[38;5;28;01mNone\u001b[39;00m, \u001b[38;5;241m*\u001b[39m\u001b[38;5;241m*\u001b[39mkwargs):\n\u001b[1;32m   1464\u001b[0m     \u001b[38;5;28;01mif\u001b[39;00m data \u001b[38;5;129;01mis\u001b[39;00m \u001b[38;5;28;01mNone\u001b[39;00m:\n\u001b[0;32m-> 1465\u001b[0m         \u001b[38;5;28;01mreturn\u001b[39;00m \u001b[43mfunc\u001b[49m\u001b[43m(\u001b[49m\u001b[43max\u001b[49m\u001b[43m,\u001b[49m\u001b[43m \u001b[49m\u001b[38;5;241;43m*\u001b[39;49m\u001b[38;5;28;43mmap\u001b[39;49m\u001b[43m(\u001b[49m\u001b[43msanitize_sequence\u001b[49m\u001b[43m,\u001b[49m\u001b[43m \u001b[49m\u001b[43margs\u001b[49m\u001b[43m)\u001b[49m\u001b[43m,\u001b[49m\u001b[43m \u001b[49m\u001b[38;5;241;43m*\u001b[39;49m\u001b[38;5;241;43m*\u001b[39;49m\u001b[43mkwargs\u001b[49m\u001b[43m)\u001b[49m\n\u001b[1;32m   1467\u001b[0m     bound \u001b[38;5;241m=\u001b[39m new_sig\u001b[38;5;241m.\u001b[39mbind(ax, \u001b[38;5;241m*\u001b[39margs, \u001b[38;5;241m*\u001b[39m\u001b[38;5;241m*\u001b[39mkwargs)\n\u001b[1;32m   1468\u001b[0m     auto_label \u001b[38;5;241m=\u001b[39m (bound\u001b[38;5;241m.\u001b[39marguments\u001b[38;5;241m.\u001b[39mget(label_namer)\n\u001b[1;32m   1469\u001b[0m                   \u001b[38;5;129;01mor\u001b[39;00m bound\u001b[38;5;241m.\u001b[39mkwargs\u001b[38;5;241m.\u001b[39mget(label_namer))\n",
      "File \u001b[0;32m~/Library/jupyterlab-desktop/jlab_server/lib/python3.12/site-packages/matplotlib/axes/_axes.py:3241\u001b[0m, in \u001b[0;36mAxes.pie\u001b[0;34m(self, x, explode, labels, colors, autopct, pctdistance, shadow, labeldistance, startangle, radius, counterclock, wedgeprops, textprops, center, frame, rotatelabels, normalize, hatch)\u001b[0m\n\u001b[1;32m   3239\u001b[0m \u001b[38;5;28;01mif\u001b[39;00m \u001b[38;5;28mlen\u001b[39m(x) \u001b[38;5;241m!=\u001b[39m \u001b[38;5;28mlen\u001b[39m(labels):\n\u001b[1;32m   3240\u001b[0m     \u001b[38;5;28;01mraise\u001b[39;00m \u001b[38;5;167;01mValueError\u001b[39;00m(\u001b[38;5;124m\"\u001b[39m\u001b[38;5;124m'\u001b[39m\u001b[38;5;124mlabel\u001b[39m\u001b[38;5;124m'\u001b[39m\u001b[38;5;124m must be of length \u001b[39m\u001b[38;5;124m'\u001b[39m\u001b[38;5;124mx\u001b[39m\u001b[38;5;124m'\u001b[39m\u001b[38;5;124m\"\u001b[39m)\n\u001b[0;32m-> 3241\u001b[0m \u001b[38;5;28;01mif\u001b[39;00m \u001b[38;5;28mlen\u001b[39m(x) \u001b[38;5;241m!=\u001b[39m \u001b[38;5;28;43mlen\u001b[39;49m\u001b[43m(\u001b[49m\u001b[43mexplode\u001b[49m\u001b[43m)\u001b[49m:\n\u001b[1;32m   3242\u001b[0m     \u001b[38;5;28;01mraise\u001b[39;00m \u001b[38;5;167;01mValueError\u001b[39;00m(\u001b[38;5;124m\"\u001b[39m\u001b[38;5;124m'\u001b[39m\u001b[38;5;124mexplode\u001b[39m\u001b[38;5;124m'\u001b[39m\u001b[38;5;124m must be of length \u001b[39m\u001b[38;5;124m'\u001b[39m\u001b[38;5;124mx\u001b[39m\u001b[38;5;124m'\u001b[39m\u001b[38;5;124m\"\u001b[39m)\n\u001b[1;32m   3243\u001b[0m \u001b[38;5;28;01mif\u001b[39;00m colors \u001b[38;5;129;01mis\u001b[39;00m \u001b[38;5;28;01mNone\u001b[39;00m:\n",
      "\u001b[0;31mTypeError\u001b[0m: object of type 'bool' has no len()"
     ]
    },
    {
     "data": {
      "image/png": "[encoded data removed]",
      "text/plain": [
       "<Figure size 640x480 with 1 Axes>"
      ]
     },
     "metadata": {},
     "output_type": "display_data"
    }
   ],
   "source": [
    "#mathplotlib\n",
    "import matplotlib.pyplot as plt\n",
    "#numpy\n",
    "import numpy as np\n",
    "#pandas\n",
    "import pandas as pd\n",
    "\n",
    "def overall_spending_effect(compare_1, compare_2, compare_3, compare_4, compare_5):\n",
    "    #make a label\n",
    "    differences = [compare_1, compare_2, compare_3, compare_4, compare_5]\n",
    "    #label the differences\n",
    "    labels = ['Total Cost Between $1 to $10', 'Total Cost Between $11 to $20', 'Total Cost Between $21 to $30', 'Total Cost Between $31 to $40', 'Total Cost Between $41 to $50']\n",
    "    #visulize which one has the highest amount of orders per total cost\n",
    "    #explode = (0, 0.2, 0, 0, 0)\n",
    "    #make a pie graph\n",
    "    plt.pie(differences, labels == labels, autopct = \"%.2f %%\", pctdistance = 0) # explode = explode)\n",
    "    #title\n",
    "    plt.title(\"Overall Spending Effect of these Customers Orders\")\n",
    "    return plt\n",
    "\n",
    "\n",
    "#specify the populated values here per total cost...\n",
    "Tier_1 = concession_data.loc[(concession_data['Total Cost'] >= 1) & (concession_data['Total Cost'] < 10)].value_counts().count()\n",
    "Tier_2 = concession_data.loc[(concession_data['Total Cost'] >= 10) & (concession_data['Total Cost'] < 20)].value_counts().count()\n",
    "Tier_3 = concession_data.loc[(concession_data['Total Cost'] >= 20) & (concession_data['Total Cost'] < 30)].value_counts().count()\n",
    "Tier_4 = concession_data.loc[(concession_data['Total Cost'] >= 30) & (concession_data['Total Cost'] < 40)].value_counts().count()\n",
    "Tier_5 = concession_data.loc[(concession_data['Total Cost'] >= 40) & (concession_data['Total Cost'] < 50)].value_counts().count()\n",
    "overall_spending_effect(Tier_1, Tier_2, Tier_3, Tier_4, Tier_5)"
   ]
  },
  {
   "cell_type": "code",
   "execution_count": null,
   "id": "4860cf81-c9cf-4c2b-825b-bd2696ff88ca",
   "metadata": {},
   "outputs": [],
   "source": []
  },
  {
   "cell_type": "code",
   "execution_count": null,
   "id": "c17e33a0-61d5-4558-bcde-c9cc111df027",
   "metadata": {},
   "outputs": [],
   "source": []
  },
  {
   "cell_type": "code",
   "execution_count": null,
   "id": "add03b57-2c57-4fc0-8149-5534207cd16f",
   "metadata": {},
   "outputs": [],
   "source": []
  },
  {
   "cell_type": "code",
   "execution_count": null,
   "id": "f6cde43d-62ac-459e-a237-cddaea3a5954",
   "metadata": {},
   "outputs": [],
   "source": []
  },
  {
   "cell_type": "markdown",
   "id": "2380a8cd-8696-4c9f-86a5-6f295ba41611",
   "metadata": {},
   "source": [
    "#### Scratch Work"
   ]
  },
  {
   "cell_type": "code",
   "execution_count": 134,
   "id": "5d816880-f910-4da2-b678-8d6bc7124ee9",
   "metadata": {},
   "outputs": [
    {
     "data": {
      "image/png": "[encoded data removed]",
      "text/plain": [
       "<Figure size 640x480 with 1 Axes>"
      ]
     },
     "metadata": {},
     "output_type": "display_data"
    }
   ],
   "source": [
    "#mathplotlib\n",
    "import matplotlib.pyplot as plt\n",
    "#numpy\n",
    "import numpy as np\n",
    "#pandas\n",
    "import pandas as pd\n",
    "\n",
    "#specify the populated values here per total cost...\n",
    "Tier_1 = concession_data.loc[(concession_data['Total Cost'] >= 1) & (concession_data['Total Cost'] < 10)].value_counts().count()\n",
    "Tier_2 = concession_data.loc[(concession_data['Total Cost'] >= 10) & (concession_data['Total Cost'] < 20)].value_counts().count()\n",
    "Tier_3 = concession_data.loc[(concession_data['Total Cost'] >= 20) & (concession_data['Total Cost'] < 30)].value_counts().count()\n",
    "Tier_4 = concession_data.loc[(concession_data['Total Cost'] >= 30) & (concession_data['Total Cost'] < 40)].value_counts().count()\n",
    "Tier_5 = concession_data.loc[(concession_data['Total Cost'] >= 40) & (concession_data['Total Cost'] < 50)].value_counts().count()\n",
    "\n",
    "#make a label\n",
    "differences = [Tier_1, Tier_2, Tier_3, Tier_4, Tier_5]\n",
    "#label the differences\n",
    "labels = ['Between $1 to $10', 'Between $11 to $20', 'Between $21 to $30', 'Between $31 to $40', 'Between $41 to $50']\n",
    "#visulize which one has the highest amount of orders per total cost\n",
    "#explode = (0, 0.2, 0, 0, 0)\n",
    "#make a pie graph\n",
    "plt.pie(differences, labels = labels, autopct = \"%.2f %%\", pctdistance = 0) # explode = explode)\n",
    "#title\n",
    "plt.title(\"Overall Spending Effect of these Customers Orders\")\n",
    "\n",
    "plt.show()"
   ]
  },
  {
   "cell_type": "code",
   "execution_count": null,
   "id": "7ea206cf-9918-45fd-b025-cd8c8df434aa",
   "metadata": {},
   "outputs": [],
   "source": []
  },
  {
   "cell_type": "code",
   "execution_count": null,
   "id": "fa2fa249-371e-4dd6-bef9-baa1ca41bfac",
   "metadata": {},
   "outputs": [],
   "source": []
  },
  {
   "cell_type": "code",
   "execution_count": null,
   "id": "6a74705d-02e4-4c69-9e48-138566a4ea38",
   "metadata": {},
   "outputs": [],
   "source": []
  },
  {
   "cell_type": "code",
   "execution_count": null,
   "id": "0cde23d6-eb7c-4424-aff0-99f2b8ea7832",
   "metadata": {},
   "outputs": [],
   "source": []
  },
  {
   "cell_type": "code",
   "execution_count": null,
   "id": "8422ad4c-6202-4c03-ad4f-3f709ff7eeb1",
   "metadata": {},
   "outputs": [],
   "source": []
  },
  {
   "cell_type": "code",
   "execution_count": null,
   "id": "0730fa79-c5d2-46c2-8f95-54e64978ea31",
   "metadata": {},
   "outputs": [],
   "source": []
  },
  {
   "cell_type": "code",
   "execution_count": null,
   "id": "79595ceb-9ff2-4147-b737-40217e5e9213",
   "metadata": {},
   "outputs": [],
   "source": []
  },
  {
   "cell_type": "code",
   "execution_count": null,
   "id": "47a4df39-d590-44b0-9d4b-2cc48634554f",
   "metadata": {},
   "outputs": [],
   "source": []
  },
  {
   "cell_type": "code",
   "execution_count": null,
   "id": "5e57e2d5-b8ab-426f-9d51-ee008443c975",
   "metadata": {},
   "outputs": [],
   "source": []
  },
  {
   "cell_type": "code",
   "execution_count": null,
   "id": "37f5c125-4623-4778-9e0a-8248a60d8aea",
   "metadata": {},
   "outputs": [],
   "source": []
  },
  {
   "cell_type": "code",
   "execution_count": null,
   "id": "e1b210a9-7de9-4647-b789-fbd1ca469cd1",
   "metadata": {},
   "outputs": [],
   "source": []
  },
  {
   "cell_type": "code",
   "execution_count": null,
   "id": "40404d53-da64-412d-a5c5-cde17aa5927a",
   "metadata": {},
   "outputs": [],
   "source": []
  },
  {
   "cell_type": "code",
   "execution_count": null,
   "id": "af3a2e57-2bd0-49e4-bdaa-8c63eca847ec",
   "metadata": {},
   "outputs": [],
   "source": []
  },
  {
   "cell_type": "code",
   "execution_count": null,
   "id": "1481f63b-77bd-4458-8a41-5d8af30a9fec",
   "metadata": {},
   "outputs": [],
   "source": []
  },
  {
   "cell_type": "code",
   "execution_count": 50,
   "id": "3f593875-a647-4c0f-8568-df64ed0f1e2b",
   "metadata": {},
   "outputs": [
    {
     "data": {
      "text/html": [
       "<div>\n",
       "<style scoped>\n",
       "    .dataframe tbody tr th:only-of-type {\n",
       "        vertical-align: middle;\n",
       "    }\n",
       "\n",
       "    .dataframe tbody tr th {\n",
       "        vertical-align: top;\n",
       "    }\n",
       "\n",
       "    .dataframe thead th {\n",
       "        text-align: right;\n",
       "    }\n",
       "</style>\n",
       "<table border=\"1\" class=\"dataframe\">\n",
       "  <thead>\n",
       "    <tr style=\"text-align: right;\">\n",
       "      <th></th>\n",
       "      <th>Order Number</th>\n",
       "      <th>Customer Name</th>\n",
       "      <th>Concession Item</th>\n",
       "      <th>Quantity</th>\n",
       "      <th>Total Cost</th>\n",
       "      <th>Payment Method</th>\n",
       "      <th>Payment Type</th>\n",
       "    </tr>\n",
       "  </thead>\n",
       "  <tbody>\n",
       "    <tr>\n",
       "      <th>5</th>\n",
       "      <td>1116</td>\n",
       "      <td>Customer A6</td>\n",
       "      <td>Supreme Pizza (Whole)</td>\n",
       "      <td>4</td>\n",
       "      <td>11.25</td>\n",
       "      <td>Credit Card</td>\n",
       "      <td>Visa</td>\n",
       "    </tr>\n",
       "    <tr>\n",
       "      <th>8</th>\n",
       "      <td>1119</td>\n",
       "      <td>Customer A9</td>\n",
       "      <td>Hot Dog, Cheese Pizza (Slice), Soda</td>\n",
       "      <td>5</td>\n",
       "      <td>33.00</td>\n",
       "      <td>Credit Card</td>\n",
       "      <td>MasterCard</td>\n",
       "    </tr>\n",
       "    <tr>\n",
       "      <th>9</th>\n",
       "      <td>1120</td>\n",
       "      <td>Customer A10</td>\n",
       "      <td>Chicken Sandwich, Fries, Soda</td>\n",
       "      <td>2</td>\n",
       "      <td>13.90</td>\n",
       "      <td>Credit Card</td>\n",
       "      <td>Discover</td>\n",
       "    </tr>\n",
       "    <tr>\n",
       "      <th>10</th>\n",
       "      <td>1121</td>\n",
       "      <td>Customer A11</td>\n",
       "      <td>Chicken Sandwich, Fries, Popcorn, Soda</td>\n",
       "      <td>3</td>\n",
       "      <td>30.45</td>\n",
       "      <td>Credit Card</td>\n",
       "      <td>Visa</td>\n",
       "    </tr>\n",
       "    <tr>\n",
       "      <th>11</th>\n",
       "      <td>1122</td>\n",
       "      <td>Customer A12</td>\n",
       "      <td>Hot Dog, Ice Cream (Chocolate)</td>\n",
       "      <td>5</td>\n",
       "      <td>23.75</td>\n",
       "      <td>Credit Card</td>\n",
       "      <td>Visa</td>\n",
       "    </tr>\n",
       "    <tr>\n",
       "      <th>...</th>\n",
       "      <td>...</td>\n",
       "      <td>...</td>\n",
       "      <td>...</td>\n",
       "      <td>...</td>\n",
       "      <td>...</td>\n",
       "      <td>...</td>\n",
       "      <td>...</td>\n",
       "    </tr>\n",
       "    <tr>\n",
       "      <th>92</th>\n",
       "      <td>1243</td>\n",
       "      <td>Customer B43</td>\n",
       "      <td>Chicken Sandwich, Fries, Popcorn, Soda</td>\n",
       "      <td>2</td>\n",
       "      <td>20.30</td>\n",
       "      <td>Credit Card</td>\n",
       "      <td>MasterCard</td>\n",
       "    </tr>\n",
       "    <tr>\n",
       "      <th>93</th>\n",
       "      <td>1244</td>\n",
       "      <td>Customer B44</td>\n",
       "      <td>Chicken Sandwich, Fries, Water Bottle</td>\n",
       "      <td>2</td>\n",
       "      <td>18.10</td>\n",
       "      <td>Credit Card</td>\n",
       "      <td>Visa</td>\n",
       "    </tr>\n",
       "    <tr>\n",
       "      <th>94</th>\n",
       "      <td>1245</td>\n",
       "      <td>Customer B45</td>\n",
       "      <td>Popcorn, Ice Cream (Strawberry)</td>\n",
       "      <td>3</td>\n",
       "      <td>13.50</td>\n",
       "      <td>Credit Card</td>\n",
       "      <td>Visa</td>\n",
       "    </tr>\n",
       "    <tr>\n",
       "      <th>97</th>\n",
       "      <td>1248</td>\n",
       "      <td>Customer B48</td>\n",
       "      <td>Chicken Sandwich, Fries, Soda</td>\n",
       "      <td>2</td>\n",
       "      <td>17.30</td>\n",
       "      <td>Credit Card</td>\n",
       "      <td>MasterCard</td>\n",
       "    </tr>\n",
       "    <tr>\n",
       "      <th>99</th>\n",
       "      <td>1250</td>\n",
       "      <td>Customer B50</td>\n",
       "      <td>Ice Cream (Strawberry)</td>\n",
       "      <td>4</td>\n",
       "      <td>12.00</td>\n",
       "      <td>Credit Card</td>\n",
       "      <td>Visa</td>\n",
       "    </tr>\n",
       "  </tbody>\n",
       "</table>\n",
       "<p>72 rows × 7 columns</p>\n",
       "</div>"
      ],
      "text/plain": [
       "    Order Number Customer Name                         Concession Item  \\\n",
       "5           1116   Customer A6                   Supreme Pizza (Whole)   \n",
       "8           1119   Customer A9     Hot Dog, Cheese Pizza (Slice), Soda   \n",
       "9           1120  Customer A10           Chicken Sandwich, Fries, Soda   \n",
       "10          1121  Customer A11  Chicken Sandwich, Fries, Popcorn, Soda   \n",
       "11          1122  Customer A12          Hot Dog, Ice Cream (Chocolate)   \n",
       "..           ...           ...                                     ...   \n",
       "92          1243  Customer B43  Chicken Sandwich, Fries, Popcorn, Soda   \n",
       "93          1244  Customer B44   Chicken Sandwich, Fries, Water Bottle   \n",
       "94          1245  Customer B45         Popcorn, Ice Cream (Strawberry)   \n",
       "97          1248  Customer B48           Chicken Sandwich, Fries, Soda   \n",
       "99          1250  Customer B50                  Ice Cream (Strawberry)   \n",
       "\n",
       "    Quantity  Total Cost Payment Method Payment Type  \n",
       "5          4       11.25    Credit Card         Visa  \n",
       "8          5       33.00    Credit Card   MasterCard  \n",
       "9          2       13.90    Credit Card     Discover  \n",
       "10         3       30.45    Credit Card         Visa  \n",
       "11         5       23.75    Credit Card         Visa  \n",
       "..       ...         ...            ...          ...  \n",
       "92         2       20.30    Credit Card   MasterCard  \n",
       "93         2       18.10    Credit Card         Visa  \n",
       "94         3       13.50    Credit Card         Visa  \n",
       "97         2       17.30    Credit Card   MasterCard  \n",
       "99         4       12.00    Credit Card         Visa  \n",
       "\n",
       "[72 rows x 7 columns]"
      ]
     },
     "execution_count": 50,
     "metadata": {},
     "output_type": "execute_result"
    }
   ],
   "source": [
    "concession_data[concession_data['Total Cost'] > 10]"
   ]
  },
  {
   "cell_type": "code",
   "execution_count": null,
   "id": "6650fdae-222b-4f9e-b222-c83eb6b39024",
   "metadata": {},
   "outputs": [],
   "source": []
  },
  {
   "cell_type": "code",
   "execution_count": null,
   "id": "b7b24791-a8fa-4282-a987-7052af30f82f",
   "metadata": {},
   "outputs": [],
   "source": []
  },
  {
   "cell_type": "code",
   "execution_count": null,
   "id": "088e4de6-c9e7-4c99-9988-dbdfc6bcade5",
   "metadata": {},
   "outputs": [],
   "source": []
  },
  {
   "cell_type": "code",
   "execution_count": null,
   "id": "a15ca910-445a-4a10-a169-807551eefdf7",
   "metadata": {},
   "outputs": [],
   "source": []
  },
  {
   "cell_type": "code",
   "execution_count": null,
   "id": "94dcd358-76a3-4c6f-a4d7-64f920ff7129",
   "metadata": {},
   "outputs": [],
   "source": []
  },
  {
   "cell_type": "code",
   "execution_count": null,
   "id": "517cdc21-ac6c-4764-8409-a146fc1b3756",
   "metadata": {},
   "outputs": [],
   "source": []
  },
  {
   "cell_type": "code",
   "execution_count": null,
   "id": "e85eecef-23bd-45b0-b357-a263dde71f6d",
   "metadata": {},
   "outputs": [],
   "source": []
  },
  {
   "cell_type": "code",
   "execution_count": null,
   "id": "2f4993fe-4e25-4f25-99fd-4120003cd169",
   "metadata": {},
   "outputs": [],
   "source": []
  },
  {
   "cell_type": "code",
   "execution_count": null,
   "id": "828db8bb-659d-44c5-9a0f-bec579cf39f0",
   "metadata": {},
   "outputs": [],
   "source": []
  },
  {
   "cell_type": "code",
   "execution_count": null,
   "id": "39b0da82-453e-4681-8a72-1fb61b0654b8",
   "metadata": {},
   "outputs": [],
   "source": []
  },
  {
   "cell_type": "code",
   "execution_count": null,
   "id": "f643d8b2-fe68-4694-a791-1be208ce1c05",
   "metadata": {},
   "outputs": [],
   "source": []
  },
  {
   "cell_type": "code",
   "execution_count": null,
   "id": "41fde2bd-4167-46dd-8eed-0a96f6006dbf",
   "metadata": {},
   "outputs": [],
   "source": []
  },
  {
   "cell_type": "markdown",
   "id": "4a20b1c8-93aa-4dae-975b-e4bf3e78c8ea",
   "metadata": {},
   "source": [
    "#### Step A. Hot Dogs \n",
    "\n",
    "Which Sides of Hot Dogs do they prefer, or would they choose just hot dog itself?"
   ]
  },
  {
   "cell_type": "code",
   "execution_count": 140,
   "id": "e8393879-d0fb-451f-8fb6-508200830088",
   "metadata": {},
   "outputs": [
    {
     "data": {
      "text/plain": [
       "Order Number       3\n",
       "Customer Name      3\n",
       "Concession Item    3\n",
       "Quantity           3\n",
       "Total Cost         3\n",
       "Payment Method     3\n",
       "Payment Type       3\n",
       "dtype: int64"
      ]
     },
     "execution_count": 140,
     "metadata": {},
     "output_type": "execute_result"
    }
   ],
   "source": [
    "hot_dog = concession_data.loc[concession_data['Concession Item'] == \"Hot Dog\"].count()\n",
    "hot_dog"
   ]
  },
  {
   "cell_type": "code",
   "execution_count": 158,
   "id": "c029a931-64a8-4130-a0db-0119fb86abc7",
   "metadata": {},
   "outputs": [
    {
     "name": "stderr",
     "output_type": "stream",
     "text": [
      "/var/folders/8v/2t7q220516nf_3hnkh0mq_vh0000gn/T/ipykernel_41558/4194796921.py:1: FutureWarning: Series.__getitem__ treating keys as positions is deprecated. In a future version, integer keys will always be treated as labels (consistent with DataFrame behavior). To access a value by position, use `ser.iloc[pos]`\n",
      "  hot_dog_combo_8 = concession_data.loc[concession_data['Concession Item'] == \"Hot Dog, Meatball Pizza (Slice), Soda\"].count()[0]\n"
     ]
    },
    {
     "data": {
      "text/plain": [
       "1"
      ]
     },
     "execution_count": 158,
     "metadata": {},
     "output_type": "execute_result"
    }
   ],
   "source": [
    "hot_dog_combo_8 = concession_data.loc[concession_data['Concession Item'] == \"Hot Dog, Meatball Pizza (Slice), Soda\"].count()[0]\n",
    "hot_dog_combo_8"
   ]
  },
  {
   "cell_type": "markdown",
   "id": "fa4fa6f3-e086-4071-98d9-5ff5dd466267",
   "metadata": {},
   "source": [
    "##### Subpart I: Make a Circle Graph regarding this part"
   ]
  },
  {
   "cell_type": "code",
   "execution_count": 8,
   "id": "db3daa04-342f-433d-8e01-53293d7ff4b3",
   "metadata": {
    "scrolled": true
   },
   "outputs": [
    {
     "name": "stderr",
     "output_type": "stream",
     "text": [
      "/var/folders/8v/2t7q220516nf_3hnkh0mq_vh0000gn/T/ipykernel_1534/98766297.py:10: FutureWarning: Series.__getitem__ treating keys as positions is deprecated. In a future version, integer keys will always be treated as labels (consistent with DataFrame behavior). To access a value by position, use `ser.iloc[pos]`\n",
      "  hot_dog = concession_data.loc[concession_data['Concession Item'] == \"Hot Dog\"].count()[0]\n",
      "/var/folders/8v/2t7q220516nf_3hnkh0mq_vh0000gn/T/ipykernel_1534/98766297.py:11: FutureWarning: Series.__getitem__ treating keys as positions is deprecated. In a future version, integer keys will always be treated as labels (consistent with DataFrame behavior). To access a value by position, use `ser.iloc[pos]`\n",
      "  hot_dog_combo_1 = concession_data.loc[concession_data['Concession Item'] == \"Hot Dog, Soda\"].count()[0]\n",
      "/var/folders/8v/2t7q220516nf_3hnkh0mq_vh0000gn/T/ipykernel_1534/98766297.py:12: FutureWarning: Series.__getitem__ treating keys as positions is deprecated. In a future version, integer keys will always be treated as labels (consistent with DataFrame behavior). To access a value by position, use `ser.iloc[pos]`\n",
      "  hot_dog_combo_2 = concession_data.loc[concession_data['Concession Item'] == \"Hot Dog, Fries, Soda\"].count()[0]\n",
      "/var/folders/8v/2t7q220516nf_3hnkh0mq_vh0000gn/T/ipykernel_1534/98766297.py:13: FutureWarning: Series.__getitem__ treating keys as positions is deprecated. In a future version, integer keys will always be treated as labels (consistent with DataFrame behavior). To access a value by position, use `ser.iloc[pos]`\n",
      "  hot_dog_combo_3 = concession_data.loc[concession_data['Concession Item'] == \"Hot Dog, Popcorn, Soda\"].count()[0]\n",
      "/var/folders/8v/2t7q220516nf_3hnkh0mq_vh0000gn/T/ipykernel_1534/98766297.py:14: FutureWarning: Series.__getitem__ treating keys as positions is deprecated. In a future version, integer keys will always be treated as labels (consistent with DataFrame behavior). To access a value by position, use `ser.iloc[pos]`\n",
      "  hot_dog_combo_4 = concession_data.loc[concession_data['Concession Item'] == \"Hot Dog, Lemonade\"].count()[0]\n",
      "/var/folders/8v/2t7q220516nf_3hnkh0mq_vh0000gn/T/ipykernel_1534/98766297.py:15: FutureWarning: Series.__getitem__ treating keys as positions is deprecated. In a future version, integer keys will always be treated as labels (consistent with DataFrame behavior). To access a value by position, use `ser.iloc[pos]`\n",
      "  hot_dog_combo_5 = concession_data.loc[concession_data['Concession Item'] == \"Hot Dog, Ice Cream (Strawberry)\"].count()[0]\n",
      "/var/folders/8v/2t7q220516nf_3hnkh0mq_vh0000gn/T/ipykernel_1534/98766297.py:16: FutureWarning: Series.__getitem__ treating keys as positions is deprecated. In a future version, integer keys will always be treated as labels (consistent with DataFrame behavior). To access a value by position, use `ser.iloc[pos]`\n",
      "  hot_dog_combo_6 = concession_data.loc[concession_data['Concession Item'] == \"Hot Dog, Ice Cream (Chocolate)\"].count()[0]\n",
      "/var/folders/8v/2t7q220516nf_3hnkh0mq_vh0000gn/T/ipykernel_1534/98766297.py:17: FutureWarning: Series.__getitem__ treating keys as positions is deprecated. In a future version, integer keys will always be treated as labels (consistent with DataFrame behavior). To access a value by position, use `ser.iloc[pos]`\n",
      "  hot_dog_combo_7 = concession_data.loc[concession_data['Concession Item'] == \"Hot Dog, Ice Cream (Vanilla)\"].count()[0]\n",
      "/var/folders/8v/2t7q220516nf_3hnkh0mq_vh0000gn/T/ipykernel_1534/98766297.py:18: FutureWarning: Series.__getitem__ treating keys as positions is deprecated. In a future version, integer keys will always be treated as labels (consistent with DataFrame behavior). To access a value by position, use `ser.iloc[pos]`\n",
      "  hot_dog_combo_8 = concession_data.loc[concession_data['Concession Item'] == \"Hot Dog, Meatball Pizza (Slice), Soda\"].count()[0]\n"
     ]
    },
    {
     "data": {
      "image/png": "[encoded data removed]",
      "text/plain": [
       "<Figure size 640x480 with 1 Axes>"
      ]
     },
     "metadata": {},
     "output_type": "display_data"
    },
    {
     "data": {
      "text/plain": [
       "<Figure size 640x480 with 0 Axes>"
      ]
     },
     "metadata": {},
     "output_type": "display_data"
    }
   ],
   "source": [
    "#### YOU NEED TO ACTIVATE THESE BEFORE DOING SO - otherwise it won't exist and you'll get an error.\n",
    "#Mathplotlib\n",
    "import matplotlib.pyplot as plt\n",
    "#Numbers\n",
    "import numpy as np\n",
    "#PANDAS\n",
    "import pandas as pd\n",
    "\n",
    "#specify which labels you need to include from this dataframe\n",
    "hot_dog = concession_data.loc[concession_data['Concession Item'] == \"Hot Dog\"].count()[0]\n",
    "hot_dog_combo_1 = concession_data.loc[concession_data['Concession Item'] == \"Hot Dog, Soda\"].count()[0]\n",
    "hot_dog_combo_2 = concession_data.loc[concession_data['Concession Item'] == \"Hot Dog, Fries, Soda\"].count()[0]\n",
    "hot_dog_combo_3 = concession_data.loc[concession_data['Concession Item'] == \"Hot Dog, Popcorn, Soda\"].count()[0]\n",
    "hot_dog_combo_4 = concession_data.loc[concession_data['Concession Item'] == \"Hot Dog, Lemonade\"].count()[0]\n",
    "hot_dog_combo_5 = concession_data.loc[concession_data['Concession Item'] == \"Hot Dog, Ice Cream (Strawberry)\"].count()[0]\n",
    "hot_dog_combo_6 = concession_data.loc[concession_data['Concession Item'] == \"Hot Dog, Ice Cream (Chocolate)\"].count()[0]\n",
    "hot_dog_combo_7 = concession_data.loc[concession_data['Concession Item'] == \"Hot Dog, Ice Cream (Vanilla)\"].count()[0]\n",
    "hot_dog_combo_8 = concession_data.loc[concession_data['Concession Item'] == \"Hot Dog, Meatball Pizza (Slice), Soda\"].count()[0]\n",
    "#hot_dog_combo_9 = concession_data.loc[concession_data['Concession Item'] == \"Hot Dog, Pepperoni  Pizza (Slice), Soda\"].count()[0]\n",
    "#hot_dog_combo_10 = concession_data.loc[concession_data['Concession Item'] == \"Hot Dog, Cheese Pizza (Slice), Soda\"].count()[0]\n",
    "#hot_dog_combo_11 = concession_data.loc[concession_data['Concession Item'] == \"Hot Dog, Water Bottle\"].count()[0]\n",
    "\n",
    "\n",
    "#insert labels here\n",
    "### NOTE THAT THERE IS A LIMIT OF VALUES ALLOWED IN THE SLICE OF THE CIRCLE GRAPHS\n",
    "labels = [\"Hot Dog (Single)\", \"Hot Dog with Soda\", \"Hot Dog with Fries and Soda\", \"Hot Dog with Popcorn and Soda\", \"Hot Dog, Lemonade\", \"Hot Dog, Ice Cream (Strawberry)\", \"Hot Dog, Ice Cream (Chocolate)\", \"Hot Dog, Ice Cream (Vanilla)\"]\n",
    "          #\"Hot Dog, Ice Cream (Chocolate)\", \"Hot Dog, Ice Cream (Vanilla)\", \"Hot Dog, Meatball Pizza (Slice), Soda\", \"Hot Dog, Pepperoni  Pizza (Slice), Soda\", \"Hot Dog, Water Bottle\"]\n",
    "#activate the pie chart\n",
    "plt.pie([hot_dog, hot_dog_combo_1, hot_dog_combo_2, hot_dog_combo_3, hot_dog_combo_4, hot_dog_combo_5, hot_dog_combo_6, hot_dog_combo_7], labels = labels, autopct = \"%.2f %%\") #with percentage\n",
    "\n",
    "#name of the title\n",
    "plt.title(\"Hot Dog Orders Analysis - with people preference\")\n",
    "\n",
    "#show me the pie chart\n",
    "plt.show()\n",
    "\n",
    "#save and export file\n",
    "plt.savefig(\"/Users/neilvu/Documents/Data Analyst/Projects/Hands-On Projects/Concession Stands (Fictional)/Hot Dog Analysis Orders.pdf\")\n"
   ]
  },
  {
   "cell_type": "markdown",
   "id": "e2fb4d59-c586-4f74-b489-cda862db40d8",
   "metadata": {},
   "source": [
    "Shows the preference of hot dogs that they prefer."
   ]
  },
  {
   "cell_type": "code",
   "execution_count": null,
   "id": "48a2b580-62df-42b4-b2e4-635f8e2e3219",
   "metadata": {},
   "outputs": [],
   "source": []
  },
  {
   "cell_type": "code",
   "execution_count": null,
   "id": "71d80afe-bda4-434b-9dfe-93204dfca0d8",
   "metadata": {},
   "outputs": [],
   "source": []
  },
  {
   "cell_type": "code",
   "execution_count": null,
   "id": "54090efc-4932-4452-8ff3-792640b7842f",
   "metadata": {},
   "outputs": [],
   "source": []
  },
  {
   "cell_type": "code",
   "execution_count": null,
   "id": "49dc52f2-79c1-4dcc-8f07-79131f14b69d",
   "metadata": {},
   "outputs": [],
   "source": []
  },
  {
   "cell_type": "code",
   "execution_count": null,
   "id": "ac2a5b2f-4ca3-48cf-ac42-9a686a1f7462",
   "metadata": {},
   "outputs": [],
   "source": []
  },
  {
   "cell_type": "code",
   "execution_count": null,
   "id": "239fa348-97a3-4637-a979-00545a1369fc",
   "metadata": {},
   "outputs": [],
   "source": []
  },
  {
   "cell_type": "code",
   "execution_count": null,
   "id": "5f3ac3df-0e8b-4221-b7d9-66a513e33e82",
   "metadata": {},
   "outputs": [],
   "source": []
  },
  {
   "cell_type": "code",
   "execution_count": null,
   "id": "ccddbdfc-9037-4e93-8c1d-dede0c6538ea",
   "metadata": {},
   "outputs": [],
   "source": []
  },
  {
   "cell_type": "code",
   "execution_count": null,
   "id": "db4b7918-c70b-4302-ab6f-80196fac4b6b",
   "metadata": {},
   "outputs": [],
   "source": []
  },
  {
   "cell_type": "code",
   "execution_count": null,
   "id": "1447618b-39a5-41ef-914e-620a07580641",
   "metadata": {},
   "outputs": [],
   "source": []
  },
  {
   "cell_type": "code",
   "execution_count": null,
   "id": "3bfe8920-8703-4f29-acb9-ee6716f0b06a",
   "metadata": {},
   "outputs": [],
   "source": []
  },
  {
   "cell_type": "code",
   "execution_count": null,
   "id": "ac573e23-3477-4581-836d-a12b373e51bc",
   "metadata": {},
   "outputs": [],
   "source": []
  },
  {
   "cell_type": "code",
   "execution_count": null,
   "id": "e5c1aa76-11ed-4b0b-8057-337aba668ac2",
   "metadata": {},
   "outputs": [],
   "source": []
  },
  {
   "cell_type": "code",
   "execution_count": null,
   "id": "f3c806c8-96e3-415b-bd7b-8185ec9b091c",
   "metadata": {},
   "outputs": [],
   "source": []
  },
  {
   "cell_type": "code",
   "execution_count": null,
   "id": "af57b73c-4656-4a48-8749-74d166de0614",
   "metadata": {},
   "outputs": [],
   "source": []
  },
  {
   "cell_type": "code",
   "execution_count": null,
   "id": "891e8f2b-431a-4a48-8d78-844317d71995",
   "metadata": {},
   "outputs": [],
   "source": []
  },
  {
   "cell_type": "code",
   "execution_count": null,
   "id": "7d30a8c8-ab6a-4939-b8ac-191722b74047",
   "metadata": {},
   "outputs": [],
   "source": []
  },
  {
   "cell_type": "code",
   "execution_count": null,
   "id": "99d6aec8-3dc1-436b-8dac-fd7f695d2cae",
   "metadata": {},
   "outputs": [],
   "source": []
  },
  {
   "cell_type": "code",
   "execution_count": null,
   "id": "6ce9ee57-35aa-409f-a8b1-5b7f1c062799",
   "metadata": {},
   "outputs": [],
   "source": []
  },
  {
   "cell_type": "code",
   "execution_count": null,
   "id": "1fd86f63-1501-4aa3-b527-666552138dea",
   "metadata": {},
   "outputs": [],
   "source": []
  }
 ],
 "metadata": {
  "kernelspec": {
   "display_name": "Python 3 (ipykernel)",
   "language": "python",
   "name": "python3"
  },
  "language_info": {
   "codemirror_mode": {
    "name": "ipython",
    "version": 3
   },
   "file_extension": ".py",
   "mimetype": "text/x-python",
   "name": "python",
   "nbconvert_exporter": "python",
   "pygments_lexer": "ipython3",
   "version": "3.12.3"
  }
 },
 "nbformat": 4,
 "nbformat_minor": 5
}
